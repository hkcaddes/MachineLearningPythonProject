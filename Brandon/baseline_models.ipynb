{
 "cells": [
  {
   "cell_type": "code",
   "execution_count": 1,
   "metadata": {},
   "outputs": [],
   "source": [
    "import pandas as pd\n",
    "import sklearn.model_selection as ms"
   ]
  },
  {
   "cell_type": "code",
   "execution_count": 2,
   "metadata": {},
   "outputs": [],
   "source": [
    "train = pd.read_csv('data_train.csv')\n",
    "test = pd.read_csv('data_test.csv')"
   ]
  },
  {
   "cell_type": "code",
   "execution_count": 7,
   "metadata": {},
   "outputs": [],
   "source": [
    "X = train.iloc[:,:-1].copy()\n",
    "y = train['SalePrice'].copy()"
   ]
  },
  {
   "cell_type": "code",
   "execution_count": 8,
   "metadata": {},
   "outputs": [],
   "source": [
    "#USING CV, NOT TEST SET\n",
    "X_train, X_test, y_train, y_test = ms.train_test_split(X, y, test_size=.3, random_state=0)"
   ]
  },
  {
   "cell_type": "code",
   "execution_count": 9,
   "metadata": {},
   "outputs": [],
   "source": [
    "from sklearn import linear_model"
   ]
  },
  {
   "cell_type": "code",
   "execution_count": 10,
   "metadata": {},
   "outputs": [],
   "source": [
    "ols = linear_model.LinearRegression()"
   ]
  },
  {
   "cell_type": "code",
   "execution_count": 11,
   "metadata": {},
   "outputs": [
    {
     "data": {
      "text/plain": [
       "LinearRegression(copy_X=True, fit_intercept=True, n_jobs=1, normalize=False)"
      ]
     },
     "execution_count": 11,
     "metadata": {},
     "output_type": "execute_result"
    }
   ],
   "source": [
    "ols.fit(X_train,y_train)"
   ]
  },
  {
   "cell_type": "code",
   "execution_count": 17,
   "metadata": {},
   "outputs": [
    {
     "name": "stdout",
     "output_type": "stream",
     "text": [
      "Scores: [0.85138498 0.93673229 0.87541642 0.88711813 0.88865555]\n",
      "Score mean: 0.8878614739214994\n",
      "Score std deviation: 0.027838654915245217\n"
     ]
    }
   ],
   "source": [
    "scores = ms.cross_val_score(estimator=ols, X=X_train, y=y_train, cv=5)\n",
    "\n",
    "print('Scores: {}'.format(scores))\n",
    "print('Score mean: {}'.format(scores.mean()))\n",
    "print('Score std deviation: {}'.format(scores.std()))"
   ]
  },
  {
   "cell_type": "code",
   "execution_count": 18,
   "metadata": {},
   "outputs": [],
   "source": [
    "from sklearn.ensemble import RandomForestRegressor\n",
    "rf = RandomForestRegressor()"
   ]
  },
  {
   "cell_type": "code",
   "execution_count": 19,
   "metadata": {},
   "outputs": [
    {
     "data": {
      "text/plain": [
       "RandomForestRegressor(bootstrap=True, criterion='mse', max_depth=None,\n",
       "           max_features='auto', max_leaf_nodes=None,\n",
       "           min_impurity_decrease=0.0, min_impurity_split=None,\n",
       "           min_samples_leaf=1, min_samples_split=2,\n",
       "           min_weight_fraction_leaf=0.0, n_estimators=10, n_jobs=1,\n",
       "           oob_score=False, random_state=None, verbose=0, warm_start=False)"
      ]
     },
     "execution_count": 19,
     "metadata": {},
     "output_type": "execute_result"
    }
   ],
   "source": [
    "rf.fit(X_train,y_train)"
   ]
  },
  {
   "cell_type": "code",
   "execution_count": 20,
   "metadata": {},
   "outputs": [
    {
     "name": "stdout",
     "output_type": "stream",
     "text": [
      "Scores: [0.79924863 0.88431098 0.8195888  0.79078297 0.86527562]\n",
      "Score mean: 0.8318413986658684\n",
      "Score std deviation: 0.03679432916721973\n"
     ]
    }
   ],
   "source": [
    "scores = ms.cross_val_score(estimator=rf, X=X_train, y=y_train, cv=5)\n",
    "\n",
    "print('Scores: {}'.format(scores))\n",
    "print('Score mean: {}'.format(scores.mean()))\n",
    "print('Score std deviation: {}'.format(scores.std()))"
   ]
  },
  {
   "cell_type": "code",
   "execution_count": 21,
   "metadata": {},
   "outputs": [
    {
     "data": {
      "text/plain": [
       "LinearRegression(copy_X=True, fit_intercept=True, n_jobs=1, normalize=False)"
      ]
     },
     "execution_count": 21,
     "metadata": {},
     "output_type": "execute_result"
    }
   ],
   "source": [
    "#fit on all training data\n",
    "ols.fit(X,y)"
   ]
  },
  {
   "cell_type": "code",
   "execution_count": 24,
   "metadata": {},
   "outputs": [
    {
     "name": "stdout",
     "output_type": "stream",
     "text": [
      "[110443.16929401 157102.1943618  171080.03675756 ... 155912.44801195\n",
      " 121918.01058393 216824.50033081]\n"
     ]
    }
   ],
   "source": [
    "ols.predict(test)"
   ]
  },
  {
   "cell_type": "code",
   "execution_count": 27,
   "metadata": {},
   "outputs": [
    {
     "data": {
      "text/plain": [
       "0       1461\n",
       "1       1462\n",
       "2       1463\n",
       "3       1464\n",
       "4       1465\n",
       "5       1466\n",
       "6       1467\n",
       "7       1468\n",
       "8       1469\n",
       "9       1470\n",
       "10      1471\n",
       "11      1472\n",
       "12      1473\n",
       "13      1474\n",
       "14      1475\n",
       "15      1476\n",
       "16      1477\n",
       "17      1478\n",
       "18      1479\n",
       "19      1480\n",
       "20      1481\n",
       "21      1482\n",
       "22      1483\n",
       "23      1484\n",
       "24      1485\n",
       "25      1486\n",
       "26      1487\n",
       "27      1488\n",
       "28      1489\n",
       "29      1490\n",
       "        ... \n",
       "1429    2890\n",
       "1430    2891\n",
       "1431    2892\n",
       "1432    2893\n",
       "1433    2894\n",
       "1434    2895\n",
       "1435    2896\n",
       "1436    2897\n",
       "1437    2898\n",
       "1438    2899\n",
       "1439    2900\n",
       "1440    2901\n",
       "1441    2902\n",
       "1442    2903\n",
       "1443    2904\n",
       "1444    2905\n",
       "1445    2906\n",
       "1446    2907\n",
       "1447    2908\n",
       "1448    2909\n",
       "1449    2910\n",
       "1450    2911\n",
       "1451    2912\n",
       "1452    2913\n",
       "1453    2914\n",
       "1454    2915\n",
       "1455    2916\n",
       "1456    2917\n",
       "1457    2918\n",
       "1458    2919\n",
       "Name: Id, Length: 1459, dtype: int64"
      ]
     },
     "execution_count": 27,
     "metadata": {},
     "output_type": "execute_result"
    }
   ],
   "source": [
    "#original csv to grab ID's\n",
    "pd.read_csv('test.csv')['Id']"
   ]
  },
  {
   "cell_type": "code",
   "execution_count": 35,
   "metadata": {},
   "outputs": [],
   "source": [
    "submission = pd.DataFrame()\n",
    "submission['Id'] = pd.read_csv('test.csv')['Id']\n",
    "submission['SalePrice'] = rf.predict(test)\n",
    "submission.to_csv('submission.csv',index=False)"
   ]
  }
 ],
 "metadata": {
  "kernelspec": {
   "display_name": "Python 3",
   "language": "python",
   "name": "python3"
  },
  "language_info": {
   "codemirror_mode": {
    "name": "ipython",
    "version": 3
   },
   "file_extension": ".py",
   "mimetype": "text/x-python",
   "name": "python",
   "nbconvert_exporter": "python",
   "pygments_lexer": "ipython3",
   "version": "3.6.4"
  }
 },
 "nbformat": 4,
 "nbformat_minor": 2
}
