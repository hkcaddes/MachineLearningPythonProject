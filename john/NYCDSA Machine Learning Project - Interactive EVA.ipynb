{
 "cells": [
  {
   "cell_type": "code",
   "execution_count": 1,
   "metadata": {},
   "outputs": [],
   "source": [
    "import pandas as pd\n",
    "import numpy as np\n",
    "from matplotlib import pyplot as plt\n",
    "import seaborn as sns\n",
    "import ipywidgets as widgets\n",
    "from ipywidgets import interact\n",
    "from IPython.display import clear_output"
   ]
  },
  {
   "cell_type": "code",
   "execution_count": 2,
   "metadata": {},
   "outputs": [],
   "source": [
    "df = pd.read_csv('all/train.csv', index_col='Id')\n",
    "df.loc[:, df.dtypes == object] = df.loc[:, df.dtypes == object].fillna('NA')"
   ]
  },
  {
   "cell_type": "code",
   "execution_count": 3,
   "metadata": {},
   "outputs": [],
   "source": [
    "#define widget\n",
    "dim3 = widgets.Dropdown(\n",
    "    options=df.columns,\n",
    "    index=0,\n",
    "    description='Choose var:',\n",
    "    disabled=False\n",
    ")"
   ]
  },
  {
   "cell_type": "code",
   "execution_count": 4,
   "metadata": {},
   "outputs": [],
   "source": [
    "#define function to build / display plots\n",
    "\n",
    "def f(x):\n",
    "    fig, ax0 = plt.subplots(figsize = (10,3), dpi=100)\n",
    "    fig1, ax = plt.subplots(1, 2, sharey=True, figsize = (10,3), dpi=100)\n",
    "    \n",
    "    #Straight distribution of selected variable against sale price\n",
    "    if df[x].dtype == 'O':\n",
    "        _ = sns.violinplot(data=df, x=x, y='SalePrice', ax=ax0)\n",
    "        _ = ax0.set_title('Sale Price Distribution by {}'.format(x))\n",
    "    else:\n",
    "        _ = ax0.scatter(data = df, x = x, y = 'SalePrice', alpha=0.7)\n",
    "        _ = ax0.set_title('Sale Price Distribution by {}'.format(x))\n",
    "\n",
    "    #What additional information does it add after factoring in the sq footage or overall qualiity?\n",
    "    _ = sns.scatterplot(data = df, x = 'GrLivArea', y = 'SalePrice', alpha=0.7, hue = x, ax=ax[0])\n",
    "    _ = ax[0].set_title('Effect of {} after sq footage'.format(x))\n",
    "    _ = sns.scatterplot(data = df, x = 'OverallQual', y = 'SalePrice', alpha=0.7, hue = x, ax=ax[1])\n",
    "    _ = ax[1].set_title('Effect of {} after overall quality'.format(x))\n",
    "    \n",
    "    #show it!\n",
    "    plt.show()"
   ]
  },
  {
   "cell_type": "code",
   "execution_count": 5,
   "metadata": {},
   "outputs": [
    {
     "data": {
      "text/plain": [
       "OneHotEncoder(categorical_features='all', dtype=<class 'numpy.float64'>,\n",
       "       handle_unknown='error', n_values='auto', sparse=True)"
      ]
     },
     "execution_count": 5,
     "metadata": {},
     "output_type": "execute_result"
    }
   ],
   "source": [
    "from sklearn import preprocessing\n",
    "preprocessing.OneHotEncoder()"
   ]
  },
  {
   "cell_type": "code",
   "execution_count": 6,
   "metadata": {
    "scrolled": false
   },
   "outputs": [
    {
     "data": {
      "application/vnd.jupyter.widget-view+json": {
       "model_id": "fb8b5514ce794d78871495a6d29ae826",
       "version_major": 2,
       "version_minor": 0
      },
      "text/plain": [
       "interactive(children=(Dropdown(description='Choose var:', options=('MSSubClass', 'MSZoning', 'LotFrontage', 'L…"
      ]
     },
     "metadata": {},
     "output_type": "display_data"
    }
   ],
   "source": [
    "#call function interactively and go!\n",
    "_ = interact(f, x=dim3)"
   ]
  }
 ],
 "metadata": {
  "kernelspec": {
   "display_name": "Python [default]",
   "language": "python",
   "name": "python3"
  },
  "language_info": {
   "codemirror_mode": {
    "name": "ipython",
    "version": 3
   },
   "file_extension": ".py",
   "mimetype": "text/x-python",
   "name": "python",
   "nbconvert_exporter": "python",
   "pygments_lexer": "ipython3",
   "version": "3.6.6"
  }
 },
 "nbformat": 4,
 "nbformat_minor": 2
}
