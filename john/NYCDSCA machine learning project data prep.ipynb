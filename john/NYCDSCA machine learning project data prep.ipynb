{
 "cells": [
  {
   "cell_type": "markdown",
   "metadata": {},
   "source": [
    "# Data Prep"
   ]
  },
  {
   "cell_type": "code",
   "execution_count": 3,
   "metadata": {},
   "outputs": [],
   "source": [
    "import pandas as pd\n",
    "import numpy as np\n",
    "import math\n",
    "from sklearn.preprocessing import OneHotEncoder\n",
    "from sklearn.preprocessing import LabelEncoder"
   ]
  },
  {
   "cell_type": "code",
   "execution_count": 4,
   "metadata": {},
   "outputs": [
    {
     "data": {
      "text/html": [
       "<div>\n",
       "<style scoped>\n",
       "    .dataframe tbody tr th:only-of-type {\n",
       "        vertical-align: middle;\n",
       "    }\n",
       "\n",
       "    .dataframe tbody tr th {\n",
       "        vertical-align: top;\n",
       "    }\n",
       "\n",
       "    .dataframe thead th {\n",
       "        text-align: right;\n",
       "    }\n",
       "</style>\n",
       "<table border=\"1\" class=\"dataframe\">\n",
       "  <thead>\n",
       "    <tr style=\"text-align: right;\">\n",
       "      <th></th>\n",
       "      <th>MSSubClass</th>\n",
       "      <th>MSZoning</th>\n",
       "      <th>LotFrontage</th>\n",
       "      <th>LotArea</th>\n",
       "      <th>Street</th>\n",
       "      <th>Alley</th>\n",
       "      <th>LotShape</th>\n",
       "      <th>LandContour</th>\n",
       "      <th>Utilities</th>\n",
       "      <th>LotConfig</th>\n",
       "      <th>...</th>\n",
       "      <th>ScreenPorch</th>\n",
       "      <th>PoolArea</th>\n",
       "      <th>PoolQC</th>\n",
       "      <th>Fence</th>\n",
       "      <th>MiscFeature</th>\n",
       "      <th>MiscVal</th>\n",
       "      <th>MoSold</th>\n",
       "      <th>YrSold</th>\n",
       "      <th>SaleType</th>\n",
       "      <th>SaleCondition</th>\n",
       "    </tr>\n",
       "    <tr>\n",
       "      <th>Id</th>\n",
       "      <th></th>\n",
       "      <th></th>\n",
       "      <th></th>\n",
       "      <th></th>\n",
       "      <th></th>\n",
       "      <th></th>\n",
       "      <th></th>\n",
       "      <th></th>\n",
       "      <th></th>\n",
       "      <th></th>\n",
       "      <th></th>\n",
       "      <th></th>\n",
       "      <th></th>\n",
       "      <th></th>\n",
       "      <th></th>\n",
       "      <th></th>\n",
       "      <th></th>\n",
       "      <th></th>\n",
       "      <th></th>\n",
       "      <th></th>\n",
       "      <th></th>\n",
       "    </tr>\n",
       "  </thead>\n",
       "  <tbody>\n",
       "    <tr>\n",
       "      <th>1</th>\n",
       "      <td>60</td>\n",
       "      <td>RL</td>\n",
       "      <td>65.0</td>\n",
       "      <td>8450</td>\n",
       "      <td>Pave</td>\n",
       "      <td>NaN</td>\n",
       "      <td>Reg</td>\n",
       "      <td>Lvl</td>\n",
       "      <td>AllPub</td>\n",
       "      <td>Inside</td>\n",
       "      <td>...</td>\n",
       "      <td>0</td>\n",
       "      <td>0</td>\n",
       "      <td>NaN</td>\n",
       "      <td>NaN</td>\n",
       "      <td>NaN</td>\n",
       "      <td>0</td>\n",
       "      <td>2</td>\n",
       "      <td>2008</td>\n",
       "      <td>WD</td>\n",
       "      <td>Normal</td>\n",
       "    </tr>\n",
       "    <tr>\n",
       "      <th>2</th>\n",
       "      <td>20</td>\n",
       "      <td>RL</td>\n",
       "      <td>80.0</td>\n",
       "      <td>9600</td>\n",
       "      <td>Pave</td>\n",
       "      <td>NaN</td>\n",
       "      <td>Reg</td>\n",
       "      <td>Lvl</td>\n",
       "      <td>AllPub</td>\n",
       "      <td>FR2</td>\n",
       "      <td>...</td>\n",
       "      <td>0</td>\n",
       "      <td>0</td>\n",
       "      <td>NaN</td>\n",
       "      <td>NaN</td>\n",
       "      <td>NaN</td>\n",
       "      <td>0</td>\n",
       "      <td>5</td>\n",
       "      <td>2007</td>\n",
       "      <td>WD</td>\n",
       "      <td>Normal</td>\n",
       "    </tr>\n",
       "    <tr>\n",
       "      <th>3</th>\n",
       "      <td>60</td>\n",
       "      <td>RL</td>\n",
       "      <td>68.0</td>\n",
       "      <td>11250</td>\n",
       "      <td>Pave</td>\n",
       "      <td>NaN</td>\n",
       "      <td>IR1</td>\n",
       "      <td>Lvl</td>\n",
       "      <td>AllPub</td>\n",
       "      <td>Inside</td>\n",
       "      <td>...</td>\n",
       "      <td>0</td>\n",
       "      <td>0</td>\n",
       "      <td>NaN</td>\n",
       "      <td>NaN</td>\n",
       "      <td>NaN</td>\n",
       "      <td>0</td>\n",
       "      <td>9</td>\n",
       "      <td>2008</td>\n",
       "      <td>WD</td>\n",
       "      <td>Normal</td>\n",
       "    </tr>\n",
       "    <tr>\n",
       "      <th>4</th>\n",
       "      <td>70</td>\n",
       "      <td>RL</td>\n",
       "      <td>60.0</td>\n",
       "      <td>9550</td>\n",
       "      <td>Pave</td>\n",
       "      <td>NaN</td>\n",
       "      <td>IR1</td>\n",
       "      <td>Lvl</td>\n",
       "      <td>AllPub</td>\n",
       "      <td>Corner</td>\n",
       "      <td>...</td>\n",
       "      <td>0</td>\n",
       "      <td>0</td>\n",
       "      <td>NaN</td>\n",
       "      <td>NaN</td>\n",
       "      <td>NaN</td>\n",
       "      <td>0</td>\n",
       "      <td>2</td>\n",
       "      <td>2006</td>\n",
       "      <td>WD</td>\n",
       "      <td>Abnorml</td>\n",
       "    </tr>\n",
       "    <tr>\n",
       "      <th>5</th>\n",
       "      <td>60</td>\n",
       "      <td>RL</td>\n",
       "      <td>84.0</td>\n",
       "      <td>14260</td>\n",
       "      <td>Pave</td>\n",
       "      <td>NaN</td>\n",
       "      <td>IR1</td>\n",
       "      <td>Lvl</td>\n",
       "      <td>AllPub</td>\n",
       "      <td>FR2</td>\n",
       "      <td>...</td>\n",
       "      <td>0</td>\n",
       "      <td>0</td>\n",
       "      <td>NaN</td>\n",
       "      <td>NaN</td>\n",
       "      <td>NaN</td>\n",
       "      <td>0</td>\n",
       "      <td>12</td>\n",
       "      <td>2008</td>\n",
       "      <td>WD</td>\n",
       "      <td>Normal</td>\n",
       "    </tr>\n",
       "  </tbody>\n",
       "</table>\n",
       "<p>5 rows × 79 columns</p>\n",
       "</div>"
      ],
      "text/plain": [
       "    MSSubClass MSZoning  LotFrontage  LotArea Street Alley LotShape  \\\n",
       "Id                                                                    \n",
       "1           60       RL         65.0     8450   Pave   NaN      Reg   \n",
       "2           20       RL         80.0     9600   Pave   NaN      Reg   \n",
       "3           60       RL         68.0    11250   Pave   NaN      IR1   \n",
       "4           70       RL         60.0     9550   Pave   NaN      IR1   \n",
       "5           60       RL         84.0    14260   Pave   NaN      IR1   \n",
       "\n",
       "   LandContour Utilities LotConfig      ...       ScreenPorch PoolArea PoolQC  \\\n",
       "Id                                      ...                                     \n",
       "1          Lvl    AllPub    Inside      ...                 0        0    NaN   \n",
       "2          Lvl    AllPub       FR2      ...                 0        0    NaN   \n",
       "3          Lvl    AllPub    Inside      ...                 0        0    NaN   \n",
       "4          Lvl    AllPub    Corner      ...                 0        0    NaN   \n",
       "5          Lvl    AllPub       FR2      ...                 0        0    NaN   \n",
       "\n",
       "   Fence MiscFeature MiscVal  MoSold  YrSold  SaleType  SaleCondition  \n",
       "Id                                                                     \n",
       "1    NaN         NaN       0       2    2008        WD         Normal  \n",
       "2    NaN         NaN       0       5    2007        WD         Normal  \n",
       "3    NaN         NaN       0       9    2008        WD         Normal  \n",
       "4    NaN         NaN       0       2    2006        WD        Abnorml  \n",
       "5    NaN         NaN       0      12    2008        WD         Normal  \n",
       "\n",
       "[5 rows x 79 columns]"
      ]
     },
     "execution_count": 4,
     "metadata": {},
     "output_type": "execute_result"
    }
   ],
   "source": [
    "# Read in training set; pop sale price off of the training df to create Y_train\n",
    "X_train = pd.read_csv('all/train.csv', index_col='Id')\n",
    "Y_train = X_train.pop('SalePrice')\n",
    "\n",
    "# Read in testing set\n",
    "X_test = pd.read_csv('all/test.csv', index_col='Id')\n",
    "\n",
    "# Create a combined DF to ensure that dummification works properly in test set\n",
    "combined = pd.concat([X_train, X_test], axis=0, sort=False)\n",
    "combined.head()"
   ]
  },
  {
   "cell_type": "code",
   "execution_count": 5,
   "metadata": {},
   "outputs": [],
   "source": [
    "# Drop unwanted features\n",
    "\n",
    "drop_cols = ['BsmtCond', 'RoofMatl', 'MasVnrArea', 'BsmtHalfBath', 'GarageCars',\n",
    "        'YearRemodAdd', 'Street', 'Alley', 'LandSlope', 'Utilities', 'Exterior2nd', 'ExterCond', 'BsmtFinSF1',\n",
    "       'BsmtFinType2', 'BsmtUnfSF', 'BsmtFinType1', 'BsmtFinSF2', '1stFlrSF', '2ndFlrSF', 'KitchenAbvGr', 'FireplaceQu',\n",
    "        'GarageYrBlt', 'GarageFinish', 'GarageCars', 'GarageQual', 'GarageCond', 'PoolArea',\n",
    "             'Fence', 'MiscFeature', 'MiscVal', 'SaleType']\n",
    "\n",
    "combined = combined.drop(drop_cols, axis = 1)"
   ]
  },
  {
   "cell_type": "code",
   "execution_count": 6,
   "metadata": {},
   "outputs": [],
   "source": [
    "# Lot Frontage\n",
    "\n",
    "# Build a dictionary with the median lot frontage per neighborhood from X_train\n",
    "X_train_median_frontage = X_train.groupby('Neighborhood').LotFrontage.median()\n",
    "X_train_median_frontage = dict(X_train_median_frontage)\n",
    "\n",
    "# Fill in NAs by getting the corresponding value from the dictionary based on x\n",
    "combined['LotFrontage'] = combined.apply(lambda x:\n",
    "                                         X_train_median_frontage.get(x.Neighborhood) if pd.isna(x.LotFrontage)\n",
    "                                            else x.LotFrontage, axis = 1)"
   ]
  },
  {
   "cell_type": "code",
   "execution_count": 7,
   "metadata": {},
   "outputs": [
    {
     "data": {
      "text/html": [
       "<div>\n",
       "<style scoped>\n",
       "    .dataframe tbody tr th:only-of-type {\n",
       "        vertical-align: middle;\n",
       "    }\n",
       "\n",
       "    .dataframe tbody tr th {\n",
       "        vertical-align: top;\n",
       "    }\n",
       "\n",
       "    .dataframe thead th {\n",
       "        text-align: right;\n",
       "    }\n",
       "</style>\n",
       "<table border=\"1\" class=\"dataframe\">\n",
       "  <thead>\n",
       "    <tr style=\"text-align: right;\">\n",
       "      <th></th>\n",
       "      <th>YrSold_2007</th>\n",
       "      <th>YrSold_2008</th>\n",
       "      <th>YrSold_2009</th>\n",
       "      <th>YrSold_2010</th>\n",
       "    </tr>\n",
       "    <tr>\n",
       "      <th>Id</th>\n",
       "      <th></th>\n",
       "      <th></th>\n",
       "      <th></th>\n",
       "      <th></th>\n",
       "    </tr>\n",
       "  </thead>\n",
       "  <tbody>\n",
       "    <tr>\n",
       "      <th>1</th>\n",
       "      <td>0</td>\n",
       "      <td>1</td>\n",
       "      <td>0</td>\n",
       "      <td>0</td>\n",
       "    </tr>\n",
       "    <tr>\n",
       "      <th>2</th>\n",
       "      <td>1</td>\n",
       "      <td>0</td>\n",
       "      <td>0</td>\n",
       "      <td>0</td>\n",
       "    </tr>\n",
       "    <tr>\n",
       "      <th>3</th>\n",
       "      <td>0</td>\n",
       "      <td>1</td>\n",
       "      <td>0</td>\n",
       "      <td>0</td>\n",
       "    </tr>\n",
       "    <tr>\n",
       "      <th>4</th>\n",
       "      <td>0</td>\n",
       "      <td>0</td>\n",
       "      <td>0</td>\n",
       "      <td>0</td>\n",
       "    </tr>\n",
       "    <tr>\n",
       "      <th>5</th>\n",
       "      <td>0</td>\n",
       "      <td>1</td>\n",
       "      <td>0</td>\n",
       "      <td>0</td>\n",
       "    </tr>\n",
       "  </tbody>\n",
       "</table>\n",
       "</div>"
      ],
      "text/plain": [
       "    YrSold_2007  YrSold_2008  YrSold_2009  YrSold_2010\n",
       "Id                                                    \n",
       "1             0            1            0            0\n",
       "2             1            0            0            0\n",
       "3             0            1            0            0\n",
       "4             0            0            0            0\n",
       "5             0            1            0            0"
      ]
     },
     "execution_count": 7,
     "metadata": {},
     "output_type": "execute_result"
    }
   ],
   "source": [
    "# Define a general dummy function that either\n",
    "#       1) drops the first category if all categories are meaningfully large, or\n",
    "#       2) keeps the first category, but drops the small categories if any categories are not meaningfull large\n",
    "\n",
    "# Definition of meaningfully large is taken from counts from the training data, to avoid data leakage\n",
    "\n",
    "def standard_dummies(col):\n",
    "    col_value_counts = X_train[col].value_counts()\n",
    "    \n",
    "    # If all of the categories are big enough... just drop the first\n",
    "    if X_train[col].value_counts().min() >= 30:\n",
    "        return pd.get_dummies(combined[col], drop_first=True, prefix=col)\n",
    "    \n",
    "    # If some of the categoires are quite small... drop the small ones\n",
    "    else:\n",
    "        all_dumms = pd.get_dummies(combined[col].astype(str))\n",
    "        \n",
    "        drop_dumms = col_value_counts[col_value_counts < 30].index.astype(str)\n",
    "        \n",
    "        all_dumms = all_dumms.drop(drop_dumms, axis = 1)\n",
    "        \n",
    "        all_dumms.columns = all_dumms.columns.str.slice_replace(0, 0, col + '_')\n",
    "        \n",
    "        return all_dumms\n",
    "    \n",
    "standard_dummies('YrSold').head()"
   ]
  },
  {
   "cell_type": "code",
   "execution_count": 8,
   "metadata": {},
   "outputs": [
    {
     "data": {
      "text/html": [
       "<div>\n",
       "<style scoped>\n",
       "    .dataframe tbody tr th:only-of-type {\n",
       "        vertical-align: middle;\n",
       "    }\n",
       "\n",
       "    .dataframe tbody tr th {\n",
       "        vertical-align: top;\n",
       "    }\n",
       "\n",
       "    .dataframe thead th {\n",
       "        text-align: right;\n",
       "    }\n",
       "</style>\n",
       "<table border=\"1\" class=\"dataframe\">\n",
       "  <thead>\n",
       "    <tr style=\"text-align: right;\">\n",
       "      <th></th>\n",
       "      <th>LotFrontage</th>\n",
       "      <th>LotArea</th>\n",
       "      <th>LotShape</th>\n",
       "      <th>Condition1</th>\n",
       "      <th>Condition2</th>\n",
       "      <th>BldgType</th>\n",
       "      <th>OverallQual</th>\n",
       "      <th>OverallCond</th>\n",
       "      <th>YearBuilt</th>\n",
       "      <th>ExterQual</th>\n",
       "      <th>...</th>\n",
       "      <th>MoSold_7</th>\n",
       "      <th>MoSold_8</th>\n",
       "      <th>MoSold_9</th>\n",
       "      <th>MoSold_10</th>\n",
       "      <th>MoSold_11</th>\n",
       "      <th>MoSold_12</th>\n",
       "      <th>YrSold_2007</th>\n",
       "      <th>YrSold_2008</th>\n",
       "      <th>YrSold_2009</th>\n",
       "      <th>YrSold_2010</th>\n",
       "    </tr>\n",
       "    <tr>\n",
       "      <th>Id</th>\n",
       "      <th></th>\n",
       "      <th></th>\n",
       "      <th></th>\n",
       "      <th></th>\n",
       "      <th></th>\n",
       "      <th></th>\n",
       "      <th></th>\n",
       "      <th></th>\n",
       "      <th></th>\n",
       "      <th></th>\n",
       "      <th></th>\n",
       "      <th></th>\n",
       "      <th></th>\n",
       "      <th></th>\n",
       "      <th></th>\n",
       "      <th></th>\n",
       "      <th></th>\n",
       "      <th></th>\n",
       "      <th></th>\n",
       "      <th></th>\n",
       "      <th></th>\n",
       "    </tr>\n",
       "  </thead>\n",
       "  <tbody>\n",
       "    <tr>\n",
       "      <th>1</th>\n",
       "      <td>65.0</td>\n",
       "      <td>8450</td>\n",
       "      <td>Reg</td>\n",
       "      <td>Norm</td>\n",
       "      <td>Norm</td>\n",
       "      <td>1Fam</td>\n",
       "      <td>7</td>\n",
       "      <td>5</td>\n",
       "      <td>2003</td>\n",
       "      <td>Gd</td>\n",
       "      <td>...</td>\n",
       "      <td>0</td>\n",
       "      <td>0</td>\n",
       "      <td>0</td>\n",
       "      <td>0</td>\n",
       "      <td>0</td>\n",
       "      <td>0</td>\n",
       "      <td>0</td>\n",
       "      <td>1</td>\n",
       "      <td>0</td>\n",
       "      <td>0</td>\n",
       "    </tr>\n",
       "    <tr>\n",
       "      <th>2</th>\n",
       "      <td>80.0</td>\n",
       "      <td>9600</td>\n",
       "      <td>Reg</td>\n",
       "      <td>Feedr</td>\n",
       "      <td>Norm</td>\n",
       "      <td>1Fam</td>\n",
       "      <td>6</td>\n",
       "      <td>8</td>\n",
       "      <td>1976</td>\n",
       "      <td>TA</td>\n",
       "      <td>...</td>\n",
       "      <td>0</td>\n",
       "      <td>0</td>\n",
       "      <td>0</td>\n",
       "      <td>0</td>\n",
       "      <td>0</td>\n",
       "      <td>0</td>\n",
       "      <td>1</td>\n",
       "      <td>0</td>\n",
       "      <td>0</td>\n",
       "      <td>0</td>\n",
       "    </tr>\n",
       "    <tr>\n",
       "      <th>3</th>\n",
       "      <td>68.0</td>\n",
       "      <td>11250</td>\n",
       "      <td>IR1</td>\n",
       "      <td>Norm</td>\n",
       "      <td>Norm</td>\n",
       "      <td>1Fam</td>\n",
       "      <td>7</td>\n",
       "      <td>5</td>\n",
       "      <td>2001</td>\n",
       "      <td>Gd</td>\n",
       "      <td>...</td>\n",
       "      <td>0</td>\n",
       "      <td>0</td>\n",
       "      <td>1</td>\n",
       "      <td>0</td>\n",
       "      <td>0</td>\n",
       "      <td>0</td>\n",
       "      <td>0</td>\n",
       "      <td>1</td>\n",
       "      <td>0</td>\n",
       "      <td>0</td>\n",
       "    </tr>\n",
       "    <tr>\n",
       "      <th>4</th>\n",
       "      <td>60.0</td>\n",
       "      <td>9550</td>\n",
       "      <td>IR1</td>\n",
       "      <td>Norm</td>\n",
       "      <td>Norm</td>\n",
       "      <td>1Fam</td>\n",
       "      <td>7</td>\n",
       "      <td>5</td>\n",
       "      <td>1915</td>\n",
       "      <td>TA</td>\n",
       "      <td>...</td>\n",
       "      <td>0</td>\n",
       "      <td>0</td>\n",
       "      <td>0</td>\n",
       "      <td>0</td>\n",
       "      <td>0</td>\n",
       "      <td>0</td>\n",
       "      <td>0</td>\n",
       "      <td>0</td>\n",
       "      <td>0</td>\n",
       "      <td>0</td>\n",
       "    </tr>\n",
       "    <tr>\n",
       "      <th>5</th>\n",
       "      <td>84.0</td>\n",
       "      <td>14260</td>\n",
       "      <td>IR1</td>\n",
       "      <td>Norm</td>\n",
       "      <td>Norm</td>\n",
       "      <td>1Fam</td>\n",
       "      <td>8</td>\n",
       "      <td>5</td>\n",
       "      <td>2000</td>\n",
       "      <td>Gd</td>\n",
       "      <td>...</td>\n",
       "      <td>0</td>\n",
       "      <td>0</td>\n",
       "      <td>0</td>\n",
       "      <td>0</td>\n",
       "      <td>0</td>\n",
       "      <td>1</td>\n",
       "      <td>0</td>\n",
       "      <td>1</td>\n",
       "      <td>0</td>\n",
       "      <td>0</td>\n",
       "    </tr>\n",
       "  </tbody>\n",
       "</table>\n",
       "<p>5 rows × 117 columns</p>\n",
       "</div>"
      ],
      "text/plain": [
       "    LotFrontage  LotArea LotShape Condition1 Condition2 BldgType  OverallQual  \\\n",
       "Id                                                                              \n",
       "1          65.0     8450      Reg       Norm       Norm     1Fam            7   \n",
       "2          80.0     9600      Reg      Feedr       Norm     1Fam            6   \n",
       "3          68.0    11250      IR1       Norm       Norm     1Fam            7   \n",
       "4          60.0     9550      IR1       Norm       Norm     1Fam            7   \n",
       "5          84.0    14260      IR1       Norm       Norm     1Fam            8   \n",
       "\n",
       "    OverallCond  YearBuilt ExterQual     ...      MoSold_7 MoSold_8  MoSold_9  \\\n",
       "Id                                       ...                                    \n",
       "1             5       2003        Gd     ...             0        0         0   \n",
       "2             8       1976        TA     ...             0        0         0   \n",
       "3             5       2001        Gd     ...             0        0         1   \n",
       "4             5       1915        TA     ...             0        0         0   \n",
       "5             5       2000        Gd     ...             0        0         0   \n",
       "\n",
       "   MoSold_10 MoSold_11 MoSold_12  YrSold_2007  YrSold_2008  YrSold_2009  \\\n",
       "Id                                                                        \n",
       "1          0         0         0            0            1            0   \n",
       "2          0         0         0            1            0            0   \n",
       "3          0         0         0            0            1            0   \n",
       "4          0         0         0            0            0            0   \n",
       "5          0         0         1            0            1            0   \n",
       "\n",
       "    YrSold_2010  \n",
       "Id               \n",
       "1             0  \n",
       "2             0  \n",
       "3             0  \n",
       "4             0  \n",
       "5             0  \n",
       "\n",
       "[5 rows x 117 columns]"
      ]
     },
     "execution_count": 8,
     "metadata": {},
     "output_type": "execute_result"
    }
   ],
   "source": [
    "# Dummify the columns that are just getting straight dummy values\n",
    "\n",
    "# Define list of columns\n",
    "std_dumm_cols = ['MSSubClass', 'Neighborhood', 'MSZoning', 'LandContour', 'LotConfig', 'KitchenQual',\n",
    "                 'Exterior1st', 'HouseStyle', 'CentralAir', 'Foundation', 'GarageType', 'RoofStyle',\n",
    "                 'MasVnrType', 'MoSold', 'YrSold']\n",
    "\n",
    "# Loop through each column\n",
    "for col in std_dumm_cols:\n",
    "    # Get the dummies\n",
    "    dummies = standard_dummies(col)\n",
    "    \n",
    "    # Concat to the dataframe\n",
    "    combined = pd.concat([combined, dummies], axis = 1)\n",
    "    \n",
    "    # Drop the original column\n",
    "    combined = combined.drop(col, axis = 1)\n",
    "\n",
    "combined.head()"
   ]
  },
  {
   "cell_type": "code",
   "execution_count": 9,
   "metadata": {},
   "outputs": [],
   "source": [
    "# Lot Area\n",
    "\n",
    "from math import log\n",
    "\n",
    "combined['LotArea'] = combined['LotArea'].apply(log)"
   ]
  },
  {
   "cell_type": "code",
   "execution_count": 10,
   "metadata": {},
   "outputs": [],
   "source": [
    "# Lot shape -- turn into binary for regular vs. irregular\n",
    "\n",
    "combined['LotShape_Reg'] = combined['LotShape'].apply(lambda x: 1 if x == 'Reg' else 0)\n",
    "combined = combined.drop('LotShape', axis=1)"
   ]
  },
  {
   "cell_type": "code",
   "execution_count": 11,
   "metadata": {},
   "outputs": [],
   "source": [
    "# Conditions\n",
    "\n",
    "# Identify list of conditions to check for\n",
    "conditions = set(list(combined['Condition1'].unique()) + list(combined['Condition1'].unique()))\n",
    "conditions.remove('Norm')\n",
    "\n",
    "# Concatenate the two conditions for each observation\n",
    "combined_conds = combined['Condition1'] + ';' + combined['Condition2']\n",
    "\n",
    "# Loop through each condition and create a binary if it exists in that observation\n",
    "for cond in conditions:\n",
    "    combined['conditions_{}'.format(cond)] = 1 if cond in combined_conds else 0\n",
    "\n",
    "# Drop the original condition field\n",
    "combined = combined.drop(['Condition1', 'Condition2'], axis=1)"
   ]
  },
  {
   "cell_type": "code",
   "execution_count": 12,
   "metadata": {},
   "outputs": [],
   "source": [
    "# Building type\n",
    "\n",
    "# Group the building types -- need to group X_train as well because standard dummies fn\n",
    "# relies on the value counts in X_train\n",
    "combined['BldgType'] = ['Twnhs' if x == 'TwnhsE' else '2fam' if x in ['Duplex', '2fmCon'] else x\n",
    "                        for x in combined['BldgType']]\n",
    "X_train['BldgType'] = ['Twnhs' if x == 'TwnhsE' else '2fam' if x in ['Duplex', '2fmCon'] else x\n",
    "                        for x in X_train['BldgType']]\n",
    "\n",
    "# Dummify and drop original column\n",
    "combined = pd.concat([combined, standard_dummies('BldgType')], axis = 1)\n",
    "combined = combined.drop('BldgType', axis=1)"
   ]
  },
  {
   "cell_type": "code",
   "execution_count": 13,
   "metadata": {},
   "outputs": [],
   "source": [
    "# Overall Condition -- binary for if it is high quality (greater than or equal to 7)\n",
    "\n",
    "combined['OverallCond'] = combined['OverallCond'].apply(lambda x: 1 if x >=7 else 0)"
   ]
  },
  {
   "cell_type": "code",
   "execution_count": 14,
   "metadata": {},
   "outputs": [],
   "source": [
    "# Year Built -- enforce a minimum value of 1950\n",
    "\n",
    "combined['YearBuilt'] = combined['YearBuilt'].apply(lambda x: 1950 if x < 1950 else x)"
   ]
  },
  {
   "cell_type": "code",
   "execution_count": 15,
   "metadata": {},
   "outputs": [],
   "source": [
    "# Exterior Quality\n",
    "\n",
    "# Combine Typical and Fair\n",
    "combined['ExterQual'] = combined['ExterQual'].apply(lambda x: 'TA' if x == 'Fa' else x)\n",
    "X_train['ExterQual'] = X_train['ExterQual'].apply(lambda x: 'TA' if x == 'Fa' else x)\n",
    "\n",
    "# Dummify and drop original column\n",
    "combined = pd.concat([combined, standard_dummies('ExterQual')], axis = 1)\n",
    "combined = combined.drop('ExterQual', axis=1)"
   ]
  },
  {
   "cell_type": "code",
   "execution_count": 16,
   "metadata": {},
   "outputs": [],
   "source": [
    "# Basement Quality... same thing\n",
    "\n",
    "# Combine Typical and Fair\n",
    "combined['BsmtQual'] = combined['BsmtQual'].apply(lambda x: 'TA' if x == 'Fa' else x)\n",
    "X_train['BsmtQual'] = X_train['BsmtQual'].apply(lambda x: 'TA' if x == 'Fa' else x)\n",
    "\n",
    "# Dummify and drop original column\n",
    "combined = pd.concat([combined, standard_dummies('BsmtQual')], axis = 1)\n",
    "combined = combined.drop('BsmtQual', axis=1)"
   ]
  },
  {
   "cell_type": "code",
   "execution_count": 17,
   "metadata": {},
   "outputs": [],
   "source": [
    "# Basement Exposure -- is it avg or good?\n",
    "\n",
    "combined['BsmtExposure_pos'] = combined['BsmtExposure'].apply(lambda x: 1 if x in ['Av', 'Gd'] else 0)\n",
    "\n",
    "combined = combined.drop('BsmtExposure', axis = 1)"
   ]
  },
  {
   "cell_type": "code",
   "execution_count": 18,
   "metadata": {},
   "outputs": [],
   "source": [
    "# Heating Type -- is it GasA?\n",
    "\n",
    "combined['Heating_GasA'] = combined['Heating'].apply(lambda x: 1 if x == 'GasA' else 0)\n",
    "\n",
    "combined = combined.drop('Heating', axis = 1)"
   ]
  },
  {
   "cell_type": "code",
   "execution_count": 19,
   "metadata": {},
   "outputs": [],
   "source": [
    "# Heating Quality -- is it excellent?\n",
    "\n",
    "combined['HeatingQC_ex'] = combined['HeatingQC'].apply(lambda x: 1 if x == 'Ex' else 0)\n",
    "\n",
    "combined = combined.drop('HeatingQC', axis=1)"
   ]
  },
  {
   "cell_type": "code",
   "execution_count": 20,
   "metadata": {},
   "outputs": [],
   "source": [
    "# Electrical -- breaker?\n",
    "\n",
    "combined['Electrical_brkr'] = combined['Electrical'].apply(lambda x: 1 if x == 'SBrkr' else 0)\n",
    "\n",
    "combined = combined.drop('Electrical', axis = 1)"
   ]
  },
  {
   "cell_type": "code",
   "execution_count": 21,
   "metadata": {},
   "outputs": [],
   "source": [
    "# Low Qual Fin Sq Ft -- is there any?\n",
    "\n",
    "combined['LowQualFinSF_y'] = combined['LowQualFinSF'].apply(lambda x: 1 if x > 0 else 0)\n",
    "\n",
    "combined = combined.drop('LowQualFinSF', axis = 1)"
   ]
  },
  {
   "cell_type": "code",
   "execution_count": 22,
   "metadata": {},
   "outputs": [],
   "source": [
    "# Half Bath -- is there one?\n",
    "\n",
    "combined['HalfBath_y'] = combined['HalfBath'].apply(lambda x: 1 if x > 0 else 0)\n",
    "\n",
    "combined = combined.drop('HalfBath', axis=1)"
   ]
  },
  {
   "cell_type": "code",
   "execution_count": 23,
   "metadata": {},
   "outputs": [],
   "source": [
    "# Functional -- is there any damage?\n",
    "\n",
    "combined['Functional_dmg'] = combined['Functional'].apply(lambda x: 0 if x == 'Typ' else 1)\n",
    "\n",
    "combined = combined.drop('Functional', axis = 1)"
   ]
  },
  {
   "cell_type": "code",
   "execution_count": 24,
   "metadata": {},
   "outputs": [],
   "source": [
    "# Fireplaces -- are they any?\n",
    "\n",
    "combined['Fireplaces'] = combined['Fireplaces'].apply(lambda x: 1 if x > 0 else 0)"
   ]
  },
  {
   "cell_type": "code",
   "execution_count": 25,
   "metadata": {},
   "outputs": [],
   "source": [
    "# Paved Drive -- is there a good paved driveway?\n",
    "\n",
    "combined['PavedDrive'] = combined['PavedDrive'].apply(lambda x: 1 if x == 'Y' else 0)"
   ]
  },
  {
   "cell_type": "code",
   "execution_count": 26,
   "metadata": {},
   "outputs": [],
   "source": [
    "# Porches -- what is the size and type of the largest porch?\n",
    "\n",
    "# Gets a series of the porch sizes for each record;\n",
    "# Sort the series by size; and returns idx(type)/value as a tuple\n",
    "combined['Porch_tuple'] = combined.filter(regex = 'Porch|Deck').apply(lambda s:\n",
    "                                                    list(s.sort_values(ascending=False)[[0]].iteritems())[0],\n",
    "                                                                     axis = 1)\n",
    "\n",
    "# Extract the size and type as separate columns from the tuple\n",
    "combined['Porch_largest_type'] = combined['Porch_tuple'].apply(lambda t: t[0])\n",
    "combined['porch_largest_size'] = combined.pop('Porch_tuple').apply(lambda t: t[1])\n",
    "\n",
    "# Convert porch type to no porch if biggest size is zero\n",
    "combined['Porch_largest_type'] = combined.apply(lambda s: 'No Porch' if s.porch_largest_size == 0\n",
    "                                                else s.Porch_largest_type, axis=1)\n",
    "                                                \n",
    "# Get dummies for the largest porch type\n",
    "combined = pd.concat([combined, pd.get_dummies(combined['Porch_largest_type'], drop_first=True)], axis=1)\n",
    "\n",
    "# Drop the original columns and the tuple\n",
    "combined = combined.drop(combined.filter(regex = 'Porch|Deck').columns, axis=1)"
   ]
  },
  {
   "cell_type": "code",
   "execution_count": 27,
   "metadata": {},
   "outputs": [],
   "source": [
    "# Pool -- is there one?\n",
    "\n",
    "combined['Pool_y'] = combined['PoolQC'].apply(lambda x: 0 if pd.isna(x) else 1)\n",
    "\n",
    "combined = combined.drop('PoolQC', axis = 1)"
   ]
  },
  {
   "cell_type": "code",
   "execution_count": 28,
   "metadata": {},
   "outputs": [],
   "source": [
    "# Sale condition -- is it partial or abnormal?\n",
    "\n",
    "# Flag partial and abnormal sales\n",
    "combined['SaleCondition_Partial'] = combined['SaleCondition'].apply(lambda x: 1 if x == 'Partial' else 0)\n",
    "combined['SaleCondition_Abnorml'] = combined['SaleCondition'].apply(lambda x: 1 if x == 'Abnorml' else 0)\n",
    "\n",
    "# Drop the original column\n",
    "combined = combined.drop('SaleCondition', axis=1)"
   ]
  },
  {
   "cell_type": "code",
   "execution_count": 29,
   "metadata": {
    "scrolled": true
   },
   "outputs": [
    {
     "data": {
      "text/html": [
       "<div>\n",
       "<style scoped>\n",
       "    .dataframe tbody tr th:only-of-type {\n",
       "        vertical-align: middle;\n",
       "    }\n",
       "\n",
       "    .dataframe tbody tr th {\n",
       "        vertical-align: top;\n",
       "    }\n",
       "\n",
       "    .dataframe thead th {\n",
       "        text-align: right;\n",
       "    }\n",
       "</style>\n",
       "<table border=\"1\" class=\"dataframe\">\n",
       "  <thead>\n",
       "    <tr style=\"text-align: right;\">\n",
       "      <th></th>\n",
       "      <th>LotFrontage</th>\n",
       "      <th>LotArea</th>\n",
       "      <th>OverallQual</th>\n",
       "      <th>OverallCond</th>\n",
       "      <th>YearBuilt</th>\n",
       "      <th>TotalBsmtSF</th>\n",
       "      <th>GrLivArea</th>\n",
       "      <th>BsmtFullBath</th>\n",
       "      <th>FullBath</th>\n",
       "      <th>BedroomAbvGr</th>\n",
       "      <th>...</th>\n",
       "      <th>Heating_GasA</th>\n",
       "      <th>HeatingQC_ex</th>\n",
       "      <th>Electrical_brkr</th>\n",
       "      <th>LowQualFinSF_y</th>\n",
       "      <th>HalfBath_y</th>\n",
       "      <th>Functional_dmg</th>\n",
       "      <th>porch_largest_size</th>\n",
       "      <th>Pool_y</th>\n",
       "      <th>SaleCondition_Partial</th>\n",
       "      <th>SaleCondition_Abnorml</th>\n",
       "    </tr>\n",
       "    <tr>\n",
       "      <th>Id</th>\n",
       "      <th></th>\n",
       "      <th></th>\n",
       "      <th></th>\n",
       "      <th></th>\n",
       "      <th></th>\n",
       "      <th></th>\n",
       "      <th></th>\n",
       "      <th></th>\n",
       "      <th></th>\n",
       "      <th></th>\n",
       "      <th></th>\n",
       "      <th></th>\n",
       "      <th></th>\n",
       "      <th></th>\n",
       "      <th></th>\n",
       "      <th></th>\n",
       "      <th></th>\n",
       "      <th></th>\n",
       "      <th></th>\n",
       "      <th></th>\n",
       "      <th></th>\n",
       "    </tr>\n",
       "  </thead>\n",
       "  <tbody>\n",
       "    <tr>\n",
       "      <th>1</th>\n",
       "      <td>65.0</td>\n",
       "      <td>9.041922</td>\n",
       "      <td>7</td>\n",
       "      <td>0</td>\n",
       "      <td>2003</td>\n",
       "      <td>856.0</td>\n",
       "      <td>1710</td>\n",
       "      <td>1.0</td>\n",
       "      <td>2</td>\n",
       "      <td>3</td>\n",
       "      <td>...</td>\n",
       "      <td>1</td>\n",
       "      <td>1</td>\n",
       "      <td>1</td>\n",
       "      <td>0</td>\n",
       "      <td>1</td>\n",
       "      <td>0</td>\n",
       "      <td>61</td>\n",
       "      <td>0</td>\n",
       "      <td>0</td>\n",
       "      <td>0</td>\n",
       "    </tr>\n",
       "    <tr>\n",
       "      <th>2</th>\n",
       "      <td>80.0</td>\n",
       "      <td>9.169518</td>\n",
       "      <td>6</td>\n",
       "      <td>1</td>\n",
       "      <td>1976</td>\n",
       "      <td>1262.0</td>\n",
       "      <td>1262</td>\n",
       "      <td>0.0</td>\n",
       "      <td>2</td>\n",
       "      <td>3</td>\n",
       "      <td>...</td>\n",
       "      <td>1</td>\n",
       "      <td>1</td>\n",
       "      <td>1</td>\n",
       "      <td>0</td>\n",
       "      <td>0</td>\n",
       "      <td>0</td>\n",
       "      <td>298</td>\n",
       "      <td>0</td>\n",
       "      <td>0</td>\n",
       "      <td>0</td>\n",
       "    </tr>\n",
       "    <tr>\n",
       "      <th>3</th>\n",
       "      <td>68.0</td>\n",
       "      <td>9.328123</td>\n",
       "      <td>7</td>\n",
       "      <td>0</td>\n",
       "      <td>2001</td>\n",
       "      <td>920.0</td>\n",
       "      <td>1786</td>\n",
       "      <td>1.0</td>\n",
       "      <td>2</td>\n",
       "      <td>3</td>\n",
       "      <td>...</td>\n",
       "      <td>1</td>\n",
       "      <td>1</td>\n",
       "      <td>1</td>\n",
       "      <td>0</td>\n",
       "      <td>1</td>\n",
       "      <td>0</td>\n",
       "      <td>42</td>\n",
       "      <td>0</td>\n",
       "      <td>0</td>\n",
       "      <td>0</td>\n",
       "    </tr>\n",
       "    <tr>\n",
       "      <th>4</th>\n",
       "      <td>60.0</td>\n",
       "      <td>9.164296</td>\n",
       "      <td>7</td>\n",
       "      <td>0</td>\n",
       "      <td>1950</td>\n",
       "      <td>756.0</td>\n",
       "      <td>1717</td>\n",
       "      <td>1.0</td>\n",
       "      <td>1</td>\n",
       "      <td>3</td>\n",
       "      <td>...</td>\n",
       "      <td>1</td>\n",
       "      <td>0</td>\n",
       "      <td>1</td>\n",
       "      <td>0</td>\n",
       "      <td>0</td>\n",
       "      <td>0</td>\n",
       "      <td>272</td>\n",
       "      <td>0</td>\n",
       "      <td>0</td>\n",
       "      <td>1</td>\n",
       "    </tr>\n",
       "    <tr>\n",
       "      <th>5</th>\n",
       "      <td>84.0</td>\n",
       "      <td>9.565214</td>\n",
       "      <td>8</td>\n",
       "      <td>0</td>\n",
       "      <td>2000</td>\n",
       "      <td>1145.0</td>\n",
       "      <td>2198</td>\n",
       "      <td>1.0</td>\n",
       "      <td>2</td>\n",
       "      <td>4</td>\n",
       "      <td>...</td>\n",
       "      <td>1</td>\n",
       "      <td>1</td>\n",
       "      <td>1</td>\n",
       "      <td>0</td>\n",
       "      <td>1</td>\n",
       "      <td>0</td>\n",
       "      <td>192</td>\n",
       "      <td>0</td>\n",
       "      <td>0</td>\n",
       "      <td>0</td>\n",
       "    </tr>\n",
       "  </tbody>\n",
       "</table>\n",
       "<p>5 rows × 123 columns</p>\n",
       "</div>"
      ],
      "text/plain": [
       "    LotFrontage   LotArea  OverallQual  OverallCond  YearBuilt  TotalBsmtSF  \\\n",
       "Id                                                                            \n",
       "1          65.0  9.041922            7            0       2003        856.0   \n",
       "2          80.0  9.169518            6            1       1976       1262.0   \n",
       "3          68.0  9.328123            7            0       2001        920.0   \n",
       "4          60.0  9.164296            7            0       1950        756.0   \n",
       "5          84.0  9.565214            8            0       2000       1145.0   \n",
       "\n",
       "    GrLivArea  BsmtFullBath  FullBath  BedroomAbvGr          ...            \\\n",
       "Id                                                           ...             \n",
       "1        1710           1.0         2             3          ...             \n",
       "2        1262           0.0         2             3          ...             \n",
       "3        1786           1.0         2             3          ...             \n",
       "4        1717           1.0         1             3          ...             \n",
       "5        2198           1.0         2             4          ...             \n",
       "\n",
       "    Heating_GasA  HeatingQC_ex  Electrical_brkr  LowQualFinSF_y  HalfBath_y  \\\n",
       "Id                                                                            \n",
       "1              1             1                1               0           1   \n",
       "2              1             1                1               0           0   \n",
       "3              1             1                1               0           1   \n",
       "4              1             0                1               0           0   \n",
       "5              1             1                1               0           1   \n",
       "\n",
       "    Functional_dmg  porch_largest_size  Pool_y  SaleCondition_Partial  \\\n",
       "Id                                                                      \n",
       "1                0                  61       0                      0   \n",
       "2                0                 298       0                      0   \n",
       "3                0                  42       0                      0   \n",
       "4                0                 272       0                      0   \n",
       "5                0                 192       0                      0   \n",
       "\n",
       "    SaleCondition_Abnorml  \n",
       "Id                         \n",
       "1                       0  \n",
       "2                       0  \n",
       "3                       0  \n",
       "4                       1  \n",
       "5                       0  \n",
       "\n",
       "[5 rows x 123 columns]"
      ]
     },
     "execution_count": 29,
     "metadata": {},
     "output_type": "execute_result"
    }
   ],
   "source": [
    "# Check dataframe\n",
    "\n",
    "combined.head()"
   ]
  },
  {
   "cell_type": "code",
   "execution_count": 30,
   "metadata": {},
   "outputs": [
    {
     "data": {
      "text/plain": [
       "uint8      89\n",
       "int64      29\n",
       "float64     5\n",
       "dtype: int64"
      ]
     },
     "execution_count": 30,
     "metadata": {},
     "output_type": "execute_result"
    }
   ],
   "source": [
    "# Confirm that we only have numerical values left\n",
    "\n",
    "combined.dtypes.value_counts()"
   ]
  },
  {
   "cell_type": "code",
   "execution_count": 31,
   "metadata": {},
   "outputs": [
    {
     "data": {
      "text/plain": [
       "BsmtFullBath            2\n",
       "GarageArea              1\n",
       "TotalBsmtSF             1\n",
       "Neighborhood_SawyerW    0\n",
       "MSZoning_RM             0\n",
       "dtype: int64"
      ]
     },
     "execution_count": 31,
     "metadata": {},
     "output_type": "execute_result"
    }
   ],
   "source": [
    "# Check for any remaining NAs\n",
    "\n",
    "combined.apply(lambda col: col.isna().sum()).sort_values(ascending=False).head()"
   ]
  },
  {
   "cell_type": "code",
   "execution_count": 32,
   "metadata": {},
   "outputs": [],
   "source": [
    "# Fill remaining NAs with 0s\n",
    "\n",
    "combined = combined.fillna(0)"
   ]
  },
  {
   "cell_type": "code",
   "execution_count": 33,
   "metadata": {},
   "outputs": [
    {
     "name": "stdout",
     "output_type": "stream",
     "text": [
      "X_train: 1458 obvs\n",
      "X_test: 1459 obvs\n"
     ]
    }
   ],
   "source": [
    "# Split combined df back into X train and X test based on the index values\n",
    "\n",
    "X_train = combined.loc[X_train.index, :]\n",
    "X_test = combined.loc[X_test.index, :]\n",
    "\n",
    "# Drop outliers from X_train and Y_train\n",
    "\n",
    "X_train = X_train.drop([524, 1299], axis = 0)\n",
    "Y_train = Y_train.drop([524, 1299], axis = 0)\n",
    "\n",
    "print('X_train: {} obvs\\nX_test: {} obvs'.format(len(X_train), len(X_test)))"
   ]
  },
  {
   "cell_type": "markdown",
   "metadata": {},
   "source": [
    "# Modeling"
   ]
  },
  {
   "cell_type": "code",
   "execution_count": 298,
   "metadata": {},
   "outputs": [
    {
     "data": {
      "text/plain": [
       "array([0.89731801, 0.90650522, 0.88770929, 0.8893938 , 0.88052638])"
      ]
     },
     "execution_count": 298,
     "metadata": {},
     "output_type": "execute_result"
    }
   ],
   "source": [
    "import sklearn.model_selection as ms\n",
    "k5 = ms.KFold(n_splits=5)\n",
    "ms.cross_val_score(estimator=lm, X=X_train, y=Y_train, cv=k5)"
   ]
  },
  {
   "cell_type": "code",
   "execution_count": 299,
   "metadata": {},
   "outputs": [
    {
     "data": {
      "text/plain": [
       "array([0.89765444, 0.90662115, 0.88783965, 0.88947851, 0.88078091])"
      ]
     },
     "execution_count": 299,
     "metadata": {},
     "output_type": "execute_result"
    }
   ],
   "source": [
    "from sklearn.linear_model import Lasso\n",
    "lass = Lasso(max_iter = 100000)\n",
    "ms.cross_val_score(estimator=lass, X=X_train, y=Y_train, cv=k5)"
   ]
  },
  {
   "cell_type": "code",
   "execution_count": 300,
   "metadata": {},
   "outputs": [],
   "source": [
    "alpha_vals = [{'alpha': 10.0**np.arange(-2, 10)}]\n",
    "gridsearch = ms.GridSearchCV(estimator = lass, param_grid=alpha_vals, cv=k5, return_train_score=False)\n",
    "gridres = gridsearch.fit(X_train, Y_train)"
   ]
  },
  {
   "cell_type": "code",
   "execution_count": 301,
   "metadata": {},
   "outputs": [
    {
     "data": {
      "text/plain": [
       "0.894180111089756"
      ]
     },
     "execution_count": 301,
     "metadata": {},
     "output_type": "execute_result"
    }
   ],
   "source": [
    "gridres.best_score_"
   ]
  },
  {
   "cell_type": "code",
   "execution_count": 302,
   "metadata": {},
   "outputs": [
    {
     "data": {
      "text/plain": [
       "100.0"
      ]
     },
     "execution_count": 302,
     "metadata": {},
     "output_type": "execute_result"
    }
   ],
   "source": [
    "gridres.best_params_.get('alpha')"
   ]
  },
  {
   "cell_type": "code",
   "execution_count": 303,
   "metadata": {},
   "outputs": [
    {
     "data": {
      "text/plain": [
       "BsmtQual_Gd             -25188.725705\n",
       "ExterQual_Gd            -22819.188592\n",
       "BsmtQual_TA             -22761.141402\n",
       "ExterQual_TA            -22457.446427\n",
       "KitchenQual_TA          -20707.005532\n",
       "KitchenQual_Gd          -20625.953433\n",
       "KitchenQual_Fa          -20163.926257\n",
       "Functional_dmg          -16677.174651\n",
       "LowQualFinSF_y          -11615.527591\n",
       "BldgType_2fam           -10565.657478\n",
       "Neighborhood_Mitchel     -9802.785574\n",
       "SaleCondition_Abnorml    -8757.462758\n",
       "BedroomAbvGr             -7173.259067\n",
       "Neighborhood_NWAmes      -6562.935906\n",
       "MSSubClass_90            -6495.620010\n",
       "Neighborhood_Gilbert     -5981.432833\n",
       "Foundation_BrkTil        -4349.429410\n",
       "Neighborhood_CollgCr     -4316.771994\n",
       "Neighborhood_Timber      -3769.984925\n",
       "Neighborhood_OldTown     -3678.896754\n",
       "Neighborhood_Edwards     -3123.202542\n",
       "Exterior1st_Plywood      -3017.416506\n",
       "LotConfig_FR2            -2173.758914\n",
       "Exterior1st_Wd Sdng      -1705.784212\n",
       "YrSold_2009              -1648.635122\n",
       "Neighborhood_NAmes       -1566.641612\n",
       "MoSold_8                 -1346.222403\n",
       "TotRmsAbvGrd             -1207.579833\n",
       "MSSubClass_120           -1158.378663\n",
       "MSSubClass_70            -1110.375350\n",
       "                             ...     \n",
       "GarageType_Detchd         2482.615531\n",
       "MSZoning_RL               2905.598239\n",
       "GarageType_nan            3080.614493\n",
       "MoSold_5                  3502.086627\n",
       "FullBath                  3514.499623\n",
       "CentralAir_Y              3934.502678\n",
       "Exterior1st_CemntBd       4076.203094\n",
       "PavedDrive                4306.270823\n",
       "MoSold_7                  4326.566487\n",
       "MSSubClass_60             4336.680918\n",
       "MSSubClass_20             4640.172812\n",
       "MSSubClass_30             4683.137041\n",
       "HalfBath_y                4693.558893\n",
       "LandContour_HLS           6149.006160\n",
       "GarageType_BuiltIn        6311.213404\n",
       "MasVnrType_Stone          7074.811629\n",
       "MSZoning_FV               7259.575005\n",
       "Neighborhood_NridgHt      7313.338245\n",
       "LotConfig_CulDSac         8681.632519\n",
       "Neighborhood_BrkSide      8943.679418\n",
       "Exterior1st_BrkFace       9195.091824\n",
       "BsmtFullBath              9407.285999\n",
       "OverallQual               9959.920336\n",
       "SaleCondition_Partial    10112.384486\n",
       "Pool_y                   10998.389239\n",
       "BsmtExposure_pos         12329.280154\n",
       "OverallCond              13291.224753\n",
       "LotArea                  14301.284672\n",
       "Neighborhood_Crawfor     17840.928143\n",
       "Neighborhood_NoRidge     31552.782518\n",
       "Length: 123, dtype: float64"
      ]
     },
     "execution_count": 303,
     "metadata": {},
     "output_type": "execute_result"
    }
   ],
   "source": [
    "_ = lass.set_params(alpha = gridres.best_params_.get('alpha'))\n",
    "_ = lass.fit(X_train, Y_train)\n",
    "\n",
    "\n",
    "coefffs = pd.Series(lass.coef_, index=X_train.columns)\n",
    "coefffs.sort_values()"
   ]
  },
  {
   "cell_type": "code",
   "execution_count": 304,
   "metadata": {},
   "outputs": [],
   "source": [
    "predictions = pd.Series(lass.predict(X_test), index=X_test.index, name='SalePrice')\n",
    "predictions.to_csv('predictions0.csv', header=True)"
   ]
  },
  {
   "cell_type": "code",
   "execution_count": 305,
   "metadata": {},
   "outputs": [],
   "source": [
    "Y_train_log = np.log1p(Y_train)\n",
    "X_train_log = X_train.copy()\n",
    "X_test_log = X_test.copy()\n",
    "for train in [X_train_log, X_test_log]:\n",
    "    train.loc[:,train.dtypes != object] = train.loc[:,train.dtypes != object].apply(np.log1p)"
   ]
  },
  {
   "cell_type": "code",
   "execution_count": 313,
   "metadata": {},
   "outputs": [],
   "source": [
    "alpha_vals = [{'alpha': 10.0**np.arange(-6, 10)}]\n",
    "gridsearch = ms.GridSearchCV(estimator = lass, param_grid=alpha_vals, cv=k5, return_train_score=False)\n",
    "gridreslog = gridsearch.fit(X_train_log, Y_train_log)"
   ]
  },
  {
   "cell_type": "code",
   "execution_count": 314,
   "metadata": {},
   "outputs": [
    {
     "data": {
      "text/plain": [
       "{'alpha': 0.0001}"
      ]
     },
     "execution_count": 314,
     "metadata": {},
     "output_type": "execute_result"
    }
   ],
   "source": [
    "lass_log = gridreslog.best_estimator_\n",
    "gridreslog.best_params_"
   ]
  },
  {
   "cell_type": "code",
   "execution_count": 315,
   "metadata": {},
   "outputs": [
    {
     "data": {
      "text/plain": [
       "array([110367.70205172, 152740.24660914, 164994.95134276, ...,\n",
       "       159170.1254861 , 116493.70486341, 215405.34946024])"
      ]
     },
     "execution_count": 315,
     "metadata": {},
     "output_type": "execute_result"
    }
   ],
   "source": [
    "predict_lass_log = np.expm1(lass_log.predict(X_test_log))\n",
    "predict_lass_log"
   ]
  },
  {
   "cell_type": "code",
   "execution_count": 316,
   "metadata": {},
   "outputs": [],
   "source": [
    "predictions = pd.Series(predict_lass_log, index=X_test.index, name='SalePrice')\n",
    "predictions.to_csv('predictions1.csv', header=True)"
   ]
  },
  {
   "cell_type": "code",
   "execution_count": 318,
   "metadata": {},
   "outputs": [
    {
     "data": {
      "text/plain": [
       "KitchenQual_Fa          -0.189211\n",
       "Neighborhood_IDOTRR     -0.158748\n",
       "BsmtQual_TA             -0.153299\n",
       "KitchenQual_TA          -0.145407\n",
       "Functional_dmg          -0.131499\n",
       "SaleCondition_Abnorml   -0.117978\n",
       "KitchenQual_Gd          -0.116727\n",
       "BsmtQual_Gd             -0.109563\n",
       "Neighborhood_OldTown    -0.105930\n",
       "Neighborhood_Edwards    -0.098492\n",
       "ExterQual_TA            -0.092571\n",
       "Foundation_BrkTil       -0.087511\n",
       "Neighborhood_NWAmes     -0.076642\n",
       "ExterQual_Gd            -0.074914\n",
       "Neighborhood_Mitchel    -0.071790\n",
       "Neighborhood_Gilbert    -0.070210\n",
       "LowQualFinSF_y          -0.066876\n",
       "HouseStyle_2Story       -0.063810\n",
       "Neighborhood_NAmes      -0.057301\n",
       "Neighborhood_Sawyer     -0.056455\n",
       "LotConfig_FR2           -0.054781\n",
       "HouseStyle_1.5Fin       -0.053687\n",
       "BedroomAbvGr            -0.052540\n",
       "Neighborhood_CollgCr    -0.045018\n",
       "Neighborhood_Timber     -0.038115\n",
       "Neighborhood_SawyerW    -0.037980\n",
       "Exterior1st_Wd Sdng     -0.032851\n",
       "Foundation_CBlock       -0.029353\n",
       "BldgType_2fam           -0.028182\n",
       "YrSold_2010             -0.023227\n",
       "                           ...   \n",
       "MasVnrType_None          0.044021\n",
       "HeatingQC_ex             0.044200\n",
       "SaleCondition_Partial    0.045956\n",
       "GarageType_Attchd        0.048788\n",
       "MasVnrType_BrkFace       0.050573\n",
       "GarageArea               0.053865\n",
       "PavedDrive               0.055995\n",
       "LotConfig_CulDSac        0.059372\n",
       "GarageType_Detchd        0.060799\n",
       "GarageType_BuiltIn       0.061698\n",
       "HalfBath_y               0.063047\n",
       "BsmtExposure_pos         0.071432\n",
       "MSSubClass_20            0.076711\n",
       "MSSubClass_120           0.078730\n",
       "MSZoning_RM              0.080234\n",
       "Exterior1st_BrkFace      0.081755\n",
       "BsmtFullBath             0.086921\n",
       "MasVnrType_Stone         0.095188\n",
       "Pool_y                   0.102966\n",
       "CentralAir_Y             0.109047\n",
       "MSZoning_RL              0.117030\n",
       "FullBath                 0.117325\n",
       "OverallCond              0.117928\n",
       "Neighborhood_Crawfor     0.120083\n",
       "Neighborhood_NoRidge     0.122572\n",
       "MSZoning_FV              0.183423\n",
       "OverallQual              0.363747\n",
       "GarageType_nan           0.403326\n",
       "GrLivArea                0.448237\n",
       "LotArea                  0.803094\n",
       "Length: 123, dtype: float64"
      ]
     },
     "execution_count": 318,
     "metadata": {},
     "output_type": "execute_result"
    }
   ],
   "source": [
    "coefffs = pd.Series(lass_log.coef_, index=X_train.columns)\n",
    "coefffs.sort_values()"
   ]
  },
  {
   "cell_type": "code",
   "execution_count": 319,
   "metadata": {},
   "outputs": [
    {
     "data": {
      "text/plain": [
       "2"
      ]
     },
     "execution_count": 319,
     "metadata": {},
     "output_type": "execute_result"
    }
   ],
   "source": [
    "gridreslog.best_index_"
   ]
  },
  {
   "cell_type": "markdown",
   "metadata": {},
   "source": [
    "# Some weird stuff../."
   ]
  },
  {
   "cell_type": "code",
   "execution_count": 335,
   "metadata": {},
   "outputs": [],
   "source": [
    "from sklearn.ensemble.gradient_boosting import GradientBoostingRegressor"
   ]
  },
  {
   "cell_type": "code",
   "execution_count": 641,
   "metadata": {},
   "outputs": [],
   "source": [
    "lass_log_strong = Lasso(max_iter = 100000, alpha=0.001)"
   ]
  },
  {
   "cell_type": "code",
   "execution_count": 642,
   "metadata": {},
   "outputs": [],
   "source": [
    "lass_log_crosspred = ms.cross_val_predict(lass_log_strong, X=X_train_log, y=Y_train_log, cv=k5)\n",
    "lass_log_resid = Y_train_log - lass_log_crosspred"
   ]
  },
  {
   "cell_type": "code",
   "execution_count": 643,
   "metadata": {},
   "outputs": [],
   "source": [
    "gb_params = [{'n_estimators': [10, 100, 250, 500],\n",
    "              'max_depth': range(1, 10, 2),\n",
    "              'learning_rate': [0.001, 0.01, 0.1, 0.2, 0.5]}]\n",
    "\n",
    "\n",
    "a = ms.GridSearchCV(GradientBoostingRegressor(), gb_params)\n",
    "\n",
    "#ms.cross_val_score(GradientBoostingRegressor(), X=X_train, y=lass_log_resid, cv=k5)"
   ]
  },
  {
   "cell_type": "code",
   "execution_count": 644,
   "metadata": {},
   "outputs": [
    {
     "data": {
      "text/plain": [
       "GridSearchCV(cv=None, error_score='raise',\n",
       "       estimator=GradientBoostingRegressor(alpha=0.9, criterion='friedman_mse', init=None,\n",
       "             learning_rate=0.1, loss='ls', max_depth=3, max_features=None,\n",
       "             max_leaf_nodes=None, min_impurity_decrease=0.0,\n",
       "             min_impurity_split=None, min_samples_leaf=1,\n",
       "             min_samples_split=2, min_weight_fraction_leaf=0.0,\n",
       "             n_estimators=100, presort='auto', random_state=None,\n",
       "             subsample=1.0, verbose=0, warm_start=False),\n",
       "       fit_params=None, iid=True, n_jobs=1,\n",
       "       param_grid=[{'n_estimators': [10, 100, 250, 500], 'max_depth': range(1, 10, 2), 'learning_rate': [0.001, 0.01, 0.1, 0.2, 0.5]}],\n",
       "       pre_dispatch='2*n_jobs', refit=True, return_train_score='warn',\n",
       "       scoring=None, verbose=0)"
      ]
     },
     "execution_count": 644,
     "metadata": {},
     "output_type": "execute_result"
    }
   ],
   "source": [
    "a.fit(X_train, lass_log_resid)"
   ]
  },
  {
   "cell_type": "code",
   "execution_count": 645,
   "metadata": {
    "scrolled": true
   },
   "outputs": [
    {
     "data": {
      "text/plain": [
       "{'learning_rate': 0.1, 'max_depth': 1, 'n_estimators': 100}"
      ]
     },
     "execution_count": 645,
     "metadata": {},
     "output_type": "execute_result"
    },
    {
     "data": {
      "text/plain": [
       "0.05315048555607553"
      ]
     },
     "execution_count": 645,
     "metadata": {},
     "output_type": "execute_result"
    }
   ],
   "source": [
    "a.best_params_\n",
    "a.best_score_"
   ]
  },
  {
   "cell_type": "code",
   "execution_count": 646,
   "metadata": {},
   "outputs": [
    {
     "data": {
      "text/plain": [
       "Lasso(alpha=0.001, copy_X=True, fit_intercept=True, max_iter=100000,\n",
       "   normalize=False, positive=False, precompute=False, random_state=None,\n",
       "   selection='cyclic', tol=0.0001, warm_start=False)"
      ]
     },
     "execution_count": 646,
     "metadata": {},
     "output_type": "execute_result"
    },
    {
     "data": {
      "text/plain": [
       "GradientBoostingRegressor(alpha=0.9, criterion='friedman_mse', init=None,\n",
       "             learning_rate=0.1, loss='ls', max_depth=1, max_features=None,\n",
       "             max_leaf_nodes=None, min_impurity_decrease=0.0,\n",
       "             min_impurity_split=None, min_samples_leaf=1,\n",
       "             min_samples_split=2, min_weight_fraction_leaf=0.0,\n",
       "             n_estimators=100, presort='auto', random_state=None,\n",
       "             subsample=1.0, verbose=0, warm_start=False)"
      ]
     },
     "execution_count": 646,
     "metadata": {},
     "output_type": "execute_result"
    }
   ],
   "source": [
    "lass_log_strong.fit(X_train_log, Y_train_log)\n",
    "\n",
    "gb = a.best_estimator_\n",
    "gb.fit(X_train, lass_log_resid)\n",
    "\n",
    "predicts = lass_log_strong.predict(X_test_log)\n",
    "\n",
    "predicts += gb.predict(X_test)\n",
    "predicts = np.expm1(predicts)\n",
    "\n",
    "\n",
    "predictions = pd.Series(predicts, index=X_test.index, name='SalePrice')\n",
    "predictions.to_csv('predictions4.csv', header=True)"
   ]
  },
  {
   "cell_type": "markdown",
   "metadata": {},
   "source": [
    "## Some even weirder stuff"
   ]
  },
  {
   "cell_type": "code",
   "execution_count": 554,
   "metadata": {},
   "outputs": [],
   "source": [
    "from sklearn.base import RegressorMixin, BaseEstimator\n",
    "\n",
    "class cross_val_regress_predict(BaseEstimator, RegressorMixin):\n",
    "    \n",
    "    def __init__(self, alpha=1):\n",
    "        self.alpha = alpha\n",
    "        \n",
    "        from sklearn.linear_model import Lasso\n",
    "        import sklearn.model_selection as ms\n",
    "        import numpy as np\n",
    "        self.lass = Lasso(max_iter = 100000)\n",
    "        \n",
    "    def fit(self, X, y):\n",
    "        self.fitted = ms.cross_val_predict(self.lass, X=X, y=y, cv=5)\n",
    "    \n",
    "    def transform(self, X):\n",
    "        return np.column_stack((self.fitted, X.drop()))\n",
    "    \n",
    "    def fit_transform(self, X, y):\n",
    "        self.fit(X, y)\n",
    "        return np.column_stack((self.fitted, X))"
   ]
  },
  {
   "cell_type": "code",
   "execution_count": 565,
   "metadata": {},
   "outputs": [
    {
     "data": {
      "text/plain": [
       "array([[1.96036488e+05, 6.50000000e+01, 9.04192172e+00, ...,\n",
       "        0.00000000e+00, 0.00000000e+00, 0.00000000e+00],\n",
       "       [1.97672498e+05, 8.00000000e+01, 9.16951838e+00, ...,\n",
       "        0.00000000e+00, 0.00000000e+00, 0.00000000e+00],\n",
       "       [2.15595753e+05, 6.80000000e+01, 9.32812341e+00, ...,\n",
       "        0.00000000e+00, 0.00000000e+00, 0.00000000e+00],\n",
       "       ...,\n",
       "       [2.63870497e+05, 6.60000000e+01, 9.10963567e+00, ...,\n",
       "        0.00000000e+00, 0.00000000e+00, 0.00000000e+00],\n",
       "       [1.32715208e+05, 6.80000000e+01, 9.18163221e+00, ...,\n",
       "        0.00000000e+00, 0.00000000e+00, 0.00000000e+00],\n",
       "       [1.50167424e+05, 7.50000000e+01, 9.20402044e+00, ...,\n",
       "        0.00000000e+00, 0.00000000e+00, 0.00000000e+00]])"
      ]
     },
     "execution_count": 565,
     "metadata": {},
     "output_type": "execute_result"
    }
   ],
   "source": [
    "a = cross_val_regress_predict()\n",
    "a.fit(X_train, Y_train)\n",
    "a.transform(X_train)"
   ]
  },
  {
   "cell_type": "code",
   "execution_count": 558,
   "metadata": {},
   "outputs": [],
   "source": [
    "from sklearn.pipeline import make_union\n",
    "mypipep = make_pipeline(cross_val_regress_predict(), GradientBoostingRegressor())"
   ]
  },
  {
   "cell_type": "code",
   "execution_count": 560,
   "metadata": {
    "scrolled": true
   },
   "outputs": [
    {
     "ename": "ValueError",
     "evalue": "all the input array dimensions except for the concatenation axis must match exactly",
     "output_type": "error",
     "traceback": [
      "\u001b[0;31m---------------------------------------------------------------------------\u001b[0m",
      "\u001b[0;31mValueError\u001b[0m                                Traceback (most recent call last)",
      "\u001b[0;32m<ipython-input-560-73bb070ae3ea>\u001b[0m in \u001b[0;36m<module>\u001b[0;34m()\u001b[0m\n\u001b[0;32m----> 1\u001b[0;31m \u001b[0mms\u001b[0m\u001b[0;34m.\u001b[0m\u001b[0mcross_val_predict\u001b[0m\u001b[0;34m(\u001b[0m\u001b[0mmypipep\u001b[0m\u001b[0;34m,\u001b[0m \u001b[0mX\u001b[0m\u001b[0;34m=\u001b[0m\u001b[0mX_train_log\u001b[0m\u001b[0;34m,\u001b[0m \u001b[0my\u001b[0m\u001b[0;34m=\u001b[0m\u001b[0mY_train_log\u001b[0m\u001b[0;34m)\u001b[0m\u001b[0;34m\u001b[0m\u001b[0m\n\u001b[0m",
      "\u001b[0;32m~/anaconda3/lib/python3.6/site-packages/sklearn/model_selection/_validation.py\u001b[0m in \u001b[0;36mcross_val_predict\u001b[0;34m(estimator, X, y, groups, cv, n_jobs, verbose, fit_params, pre_dispatch, method)\u001b[0m\n\u001b[1;32m    678\u001b[0m     prediction_blocks = parallel(delayed(_fit_and_predict)(\n\u001b[1;32m    679\u001b[0m         clone(estimator), X, y, train, test, verbose, fit_params, method)\n\u001b[0;32m--> 680\u001b[0;31m         for train, test in cv.split(X, y, groups))\n\u001b[0m\u001b[1;32m    681\u001b[0m \u001b[0;34m\u001b[0m\u001b[0m\n\u001b[1;32m    682\u001b[0m     \u001b[0;31m# Concatenate the predictions\u001b[0m\u001b[0;34m\u001b[0m\u001b[0;34m\u001b[0m\u001b[0m\n",
      "\u001b[0;32m~/anaconda3/lib/python3.6/site-packages/sklearn/externals/joblib/parallel.py\u001b[0m in \u001b[0;36m__call__\u001b[0;34m(self, iterable)\u001b[0m\n\u001b[1;32m    777\u001b[0m             \u001b[0;31m# was dispatched. In particular this covers the edge\u001b[0m\u001b[0;34m\u001b[0m\u001b[0;34m\u001b[0m\u001b[0m\n\u001b[1;32m    778\u001b[0m             \u001b[0;31m# case of Parallel used with an exhausted iterator.\u001b[0m\u001b[0;34m\u001b[0m\u001b[0;34m\u001b[0m\u001b[0m\n\u001b[0;32m--> 779\u001b[0;31m             \u001b[0;32mwhile\u001b[0m \u001b[0mself\u001b[0m\u001b[0;34m.\u001b[0m\u001b[0mdispatch_one_batch\u001b[0m\u001b[0;34m(\u001b[0m\u001b[0miterator\u001b[0m\u001b[0;34m)\u001b[0m\u001b[0;34m:\u001b[0m\u001b[0;34m\u001b[0m\u001b[0m\n\u001b[0m\u001b[1;32m    780\u001b[0m                 \u001b[0mself\u001b[0m\u001b[0;34m.\u001b[0m\u001b[0m_iterating\u001b[0m \u001b[0;34m=\u001b[0m \u001b[0;32mTrue\u001b[0m\u001b[0;34m\u001b[0m\u001b[0m\n\u001b[1;32m    781\u001b[0m             \u001b[0;32melse\u001b[0m\u001b[0;34m:\u001b[0m\u001b[0;34m\u001b[0m\u001b[0m\n",
      "\u001b[0;32m~/anaconda3/lib/python3.6/site-packages/sklearn/externals/joblib/parallel.py\u001b[0m in \u001b[0;36mdispatch_one_batch\u001b[0;34m(self, iterator)\u001b[0m\n\u001b[1;32m    623\u001b[0m                 \u001b[0;32mreturn\u001b[0m \u001b[0;32mFalse\u001b[0m\u001b[0;34m\u001b[0m\u001b[0m\n\u001b[1;32m    624\u001b[0m             \u001b[0;32melse\u001b[0m\u001b[0;34m:\u001b[0m\u001b[0;34m\u001b[0m\u001b[0m\n\u001b[0;32m--> 625\u001b[0;31m                 \u001b[0mself\u001b[0m\u001b[0;34m.\u001b[0m\u001b[0m_dispatch\u001b[0m\u001b[0;34m(\u001b[0m\u001b[0mtasks\u001b[0m\u001b[0;34m)\u001b[0m\u001b[0;34m\u001b[0m\u001b[0m\n\u001b[0m\u001b[1;32m    626\u001b[0m                 \u001b[0;32mreturn\u001b[0m \u001b[0;32mTrue\u001b[0m\u001b[0;34m\u001b[0m\u001b[0m\n\u001b[1;32m    627\u001b[0m \u001b[0;34m\u001b[0m\u001b[0m\n",
      "\u001b[0;32m~/anaconda3/lib/python3.6/site-packages/sklearn/externals/joblib/parallel.py\u001b[0m in \u001b[0;36m_dispatch\u001b[0;34m(self, batch)\u001b[0m\n\u001b[1;32m    586\u001b[0m         \u001b[0mdispatch_timestamp\u001b[0m \u001b[0;34m=\u001b[0m \u001b[0mtime\u001b[0m\u001b[0;34m.\u001b[0m\u001b[0mtime\u001b[0m\u001b[0;34m(\u001b[0m\u001b[0;34m)\u001b[0m\u001b[0;34m\u001b[0m\u001b[0m\n\u001b[1;32m    587\u001b[0m         \u001b[0mcb\u001b[0m \u001b[0;34m=\u001b[0m \u001b[0mBatchCompletionCallBack\u001b[0m\u001b[0;34m(\u001b[0m\u001b[0mdispatch_timestamp\u001b[0m\u001b[0;34m,\u001b[0m \u001b[0mlen\u001b[0m\u001b[0;34m(\u001b[0m\u001b[0mbatch\u001b[0m\u001b[0;34m)\u001b[0m\u001b[0;34m,\u001b[0m \u001b[0mself\u001b[0m\u001b[0;34m)\u001b[0m\u001b[0;34m\u001b[0m\u001b[0m\n\u001b[0;32m--> 588\u001b[0;31m         \u001b[0mjob\u001b[0m \u001b[0;34m=\u001b[0m \u001b[0mself\u001b[0m\u001b[0;34m.\u001b[0m\u001b[0m_backend\u001b[0m\u001b[0;34m.\u001b[0m\u001b[0mapply_async\u001b[0m\u001b[0;34m(\u001b[0m\u001b[0mbatch\u001b[0m\u001b[0;34m,\u001b[0m \u001b[0mcallback\u001b[0m\u001b[0;34m=\u001b[0m\u001b[0mcb\u001b[0m\u001b[0;34m)\u001b[0m\u001b[0;34m\u001b[0m\u001b[0m\n\u001b[0m\u001b[1;32m    589\u001b[0m         \u001b[0mself\u001b[0m\u001b[0;34m.\u001b[0m\u001b[0m_jobs\u001b[0m\u001b[0;34m.\u001b[0m\u001b[0mappend\u001b[0m\u001b[0;34m(\u001b[0m\u001b[0mjob\u001b[0m\u001b[0;34m)\u001b[0m\u001b[0;34m\u001b[0m\u001b[0m\n\u001b[1;32m    590\u001b[0m \u001b[0;34m\u001b[0m\u001b[0m\n",
      "\u001b[0;32m~/anaconda3/lib/python3.6/site-packages/sklearn/externals/joblib/_parallel_backends.py\u001b[0m in \u001b[0;36mapply_async\u001b[0;34m(self, func, callback)\u001b[0m\n\u001b[1;32m    109\u001b[0m     \u001b[0;32mdef\u001b[0m \u001b[0mapply_async\u001b[0m\u001b[0;34m(\u001b[0m\u001b[0mself\u001b[0m\u001b[0;34m,\u001b[0m \u001b[0mfunc\u001b[0m\u001b[0;34m,\u001b[0m \u001b[0mcallback\u001b[0m\u001b[0;34m=\u001b[0m\u001b[0;32mNone\u001b[0m\u001b[0;34m)\u001b[0m\u001b[0;34m:\u001b[0m\u001b[0;34m\u001b[0m\u001b[0m\n\u001b[1;32m    110\u001b[0m         \u001b[0;34m\"\"\"Schedule a func to be run\"\"\"\u001b[0m\u001b[0;34m\u001b[0m\u001b[0m\n\u001b[0;32m--> 111\u001b[0;31m         \u001b[0mresult\u001b[0m \u001b[0;34m=\u001b[0m \u001b[0mImmediateResult\u001b[0m\u001b[0;34m(\u001b[0m\u001b[0mfunc\u001b[0m\u001b[0;34m)\u001b[0m\u001b[0;34m\u001b[0m\u001b[0m\n\u001b[0m\u001b[1;32m    112\u001b[0m         \u001b[0;32mif\u001b[0m \u001b[0mcallback\u001b[0m\u001b[0;34m:\u001b[0m\u001b[0;34m\u001b[0m\u001b[0m\n\u001b[1;32m    113\u001b[0m             \u001b[0mcallback\u001b[0m\u001b[0;34m(\u001b[0m\u001b[0mresult\u001b[0m\u001b[0;34m)\u001b[0m\u001b[0;34m\u001b[0m\u001b[0m\n",
      "\u001b[0;32m~/anaconda3/lib/python3.6/site-packages/sklearn/externals/joblib/_parallel_backends.py\u001b[0m in \u001b[0;36m__init__\u001b[0;34m(self, batch)\u001b[0m\n\u001b[1;32m    330\u001b[0m         \u001b[0;31m# Don't delay the application, to avoid keeping the input\u001b[0m\u001b[0;34m\u001b[0m\u001b[0;34m\u001b[0m\u001b[0m\n\u001b[1;32m    331\u001b[0m         \u001b[0;31m# arguments in memory\u001b[0m\u001b[0;34m\u001b[0m\u001b[0;34m\u001b[0m\u001b[0m\n\u001b[0;32m--> 332\u001b[0;31m         \u001b[0mself\u001b[0m\u001b[0;34m.\u001b[0m\u001b[0mresults\u001b[0m \u001b[0;34m=\u001b[0m \u001b[0mbatch\u001b[0m\u001b[0;34m(\u001b[0m\u001b[0;34m)\u001b[0m\u001b[0;34m\u001b[0m\u001b[0m\n\u001b[0m\u001b[1;32m    333\u001b[0m \u001b[0;34m\u001b[0m\u001b[0m\n\u001b[1;32m    334\u001b[0m     \u001b[0;32mdef\u001b[0m \u001b[0mget\u001b[0m\u001b[0;34m(\u001b[0m\u001b[0mself\u001b[0m\u001b[0;34m)\u001b[0m\u001b[0;34m:\u001b[0m\u001b[0;34m\u001b[0m\u001b[0m\n",
      "\u001b[0;32m~/anaconda3/lib/python3.6/site-packages/sklearn/externals/joblib/parallel.py\u001b[0m in \u001b[0;36m__call__\u001b[0;34m(self)\u001b[0m\n\u001b[1;32m    129\u001b[0m \u001b[0;34m\u001b[0m\u001b[0m\n\u001b[1;32m    130\u001b[0m     \u001b[0;32mdef\u001b[0m \u001b[0m__call__\u001b[0m\u001b[0;34m(\u001b[0m\u001b[0mself\u001b[0m\u001b[0;34m)\u001b[0m\u001b[0;34m:\u001b[0m\u001b[0;34m\u001b[0m\u001b[0m\n\u001b[0;32m--> 131\u001b[0;31m         \u001b[0;32mreturn\u001b[0m \u001b[0;34m[\u001b[0m\u001b[0mfunc\u001b[0m\u001b[0;34m(\u001b[0m\u001b[0;34m*\u001b[0m\u001b[0margs\u001b[0m\u001b[0;34m,\u001b[0m \u001b[0;34m**\u001b[0m\u001b[0mkwargs\u001b[0m\u001b[0;34m)\u001b[0m \u001b[0;32mfor\u001b[0m \u001b[0mfunc\u001b[0m\u001b[0;34m,\u001b[0m \u001b[0margs\u001b[0m\u001b[0;34m,\u001b[0m \u001b[0mkwargs\u001b[0m \u001b[0;32min\u001b[0m \u001b[0mself\u001b[0m\u001b[0;34m.\u001b[0m\u001b[0mitems\u001b[0m\u001b[0;34m]\u001b[0m\u001b[0;34m\u001b[0m\u001b[0m\n\u001b[0m\u001b[1;32m    132\u001b[0m \u001b[0;34m\u001b[0m\u001b[0m\n\u001b[1;32m    133\u001b[0m     \u001b[0;32mdef\u001b[0m \u001b[0m__len__\u001b[0m\u001b[0;34m(\u001b[0m\u001b[0mself\u001b[0m\u001b[0;34m)\u001b[0m\u001b[0;34m:\u001b[0m\u001b[0;34m\u001b[0m\u001b[0m\n",
      "\u001b[0;32m~/anaconda3/lib/python3.6/site-packages/sklearn/externals/joblib/parallel.py\u001b[0m in \u001b[0;36m<listcomp>\u001b[0;34m(.0)\u001b[0m\n\u001b[1;32m    129\u001b[0m \u001b[0;34m\u001b[0m\u001b[0m\n\u001b[1;32m    130\u001b[0m     \u001b[0;32mdef\u001b[0m \u001b[0m__call__\u001b[0m\u001b[0;34m(\u001b[0m\u001b[0mself\u001b[0m\u001b[0;34m)\u001b[0m\u001b[0;34m:\u001b[0m\u001b[0;34m\u001b[0m\u001b[0m\n\u001b[0;32m--> 131\u001b[0;31m         \u001b[0;32mreturn\u001b[0m \u001b[0;34m[\u001b[0m\u001b[0mfunc\u001b[0m\u001b[0;34m(\u001b[0m\u001b[0;34m*\u001b[0m\u001b[0margs\u001b[0m\u001b[0;34m,\u001b[0m \u001b[0;34m**\u001b[0m\u001b[0mkwargs\u001b[0m\u001b[0;34m)\u001b[0m \u001b[0;32mfor\u001b[0m \u001b[0mfunc\u001b[0m\u001b[0;34m,\u001b[0m \u001b[0margs\u001b[0m\u001b[0;34m,\u001b[0m \u001b[0mkwargs\u001b[0m \u001b[0;32min\u001b[0m \u001b[0mself\u001b[0m\u001b[0;34m.\u001b[0m\u001b[0mitems\u001b[0m\u001b[0;34m]\u001b[0m\u001b[0;34m\u001b[0m\u001b[0m\n\u001b[0m\u001b[1;32m    132\u001b[0m \u001b[0;34m\u001b[0m\u001b[0m\n\u001b[1;32m    133\u001b[0m     \u001b[0;32mdef\u001b[0m \u001b[0m__len__\u001b[0m\u001b[0;34m(\u001b[0m\u001b[0mself\u001b[0m\u001b[0;34m)\u001b[0m\u001b[0;34m:\u001b[0m\u001b[0;34m\u001b[0m\u001b[0m\n",
      "\u001b[0;32m~/anaconda3/lib/python3.6/site-packages/sklearn/model_selection/_validation.py\u001b[0m in \u001b[0;36m_fit_and_predict\u001b[0;34m(estimator, X, y, train, test, verbose, fit_params, method)\u001b[0m\n\u001b[1;32m    753\u001b[0m         \u001b[0mestimator\u001b[0m\u001b[0;34m.\u001b[0m\u001b[0mfit\u001b[0m\u001b[0;34m(\u001b[0m\u001b[0mX_train\u001b[0m\u001b[0;34m,\u001b[0m \u001b[0my_train\u001b[0m\u001b[0;34m,\u001b[0m \u001b[0;34m**\u001b[0m\u001b[0mfit_params\u001b[0m\u001b[0;34m)\u001b[0m\u001b[0;34m\u001b[0m\u001b[0m\n\u001b[1;32m    754\u001b[0m     \u001b[0mfunc\u001b[0m \u001b[0;34m=\u001b[0m \u001b[0mgetattr\u001b[0m\u001b[0;34m(\u001b[0m\u001b[0mestimator\u001b[0m\u001b[0;34m,\u001b[0m \u001b[0mmethod\u001b[0m\u001b[0;34m)\u001b[0m\u001b[0;34m\u001b[0m\u001b[0m\n\u001b[0;32m--> 755\u001b[0;31m     \u001b[0mpredictions\u001b[0m \u001b[0;34m=\u001b[0m \u001b[0mfunc\u001b[0m\u001b[0;34m(\u001b[0m\u001b[0mX_test\u001b[0m\u001b[0;34m)\u001b[0m\u001b[0;34m\u001b[0m\u001b[0m\n\u001b[0m\u001b[1;32m    756\u001b[0m     \u001b[0;32mif\u001b[0m \u001b[0mmethod\u001b[0m \u001b[0;32min\u001b[0m \u001b[0;34m[\u001b[0m\u001b[0;34m'decision_function'\u001b[0m\u001b[0;34m,\u001b[0m \u001b[0;34m'predict_proba'\u001b[0m\u001b[0;34m,\u001b[0m \u001b[0;34m'predict_log_proba'\u001b[0m\u001b[0;34m]\u001b[0m\u001b[0;34m:\u001b[0m\u001b[0;34m\u001b[0m\u001b[0m\n\u001b[1;32m    757\u001b[0m         \u001b[0mn_classes\u001b[0m \u001b[0;34m=\u001b[0m \u001b[0mlen\u001b[0m\u001b[0;34m(\u001b[0m\u001b[0mset\u001b[0m\u001b[0;34m(\u001b[0m\u001b[0my\u001b[0m\u001b[0;34m)\u001b[0m\u001b[0;34m)\u001b[0m\u001b[0;34m\u001b[0m\u001b[0m\n",
      "\u001b[0;32m~/anaconda3/lib/python3.6/site-packages/sklearn/utils/metaestimators.py\u001b[0m in \u001b[0;36m<lambda>\u001b[0;34m(*args, **kwargs)\u001b[0m\n\u001b[1;32m    113\u001b[0m \u001b[0;34m\u001b[0m\u001b[0m\n\u001b[1;32m    114\u001b[0m         \u001b[0;31m# lambda, but not partial, allows help() to work with update_wrapper\u001b[0m\u001b[0;34m\u001b[0m\u001b[0;34m\u001b[0m\u001b[0m\n\u001b[0;32m--> 115\u001b[0;31m         \u001b[0mout\u001b[0m \u001b[0;34m=\u001b[0m \u001b[0;32mlambda\u001b[0m \u001b[0;34m*\u001b[0m\u001b[0margs\u001b[0m\u001b[0;34m,\u001b[0m \u001b[0;34m**\u001b[0m\u001b[0mkwargs\u001b[0m\u001b[0;34m:\u001b[0m \u001b[0mself\u001b[0m\u001b[0;34m.\u001b[0m\u001b[0mfn\u001b[0m\u001b[0;34m(\u001b[0m\u001b[0mobj\u001b[0m\u001b[0;34m,\u001b[0m \u001b[0;34m*\u001b[0m\u001b[0margs\u001b[0m\u001b[0;34m,\u001b[0m \u001b[0;34m**\u001b[0m\u001b[0mkwargs\u001b[0m\u001b[0;34m)\u001b[0m\u001b[0;34m\u001b[0m\u001b[0m\n\u001b[0m\u001b[1;32m    116\u001b[0m         \u001b[0;31m# update the docstring of the returned function\u001b[0m\u001b[0;34m\u001b[0m\u001b[0;34m\u001b[0m\u001b[0m\n\u001b[1;32m    117\u001b[0m         \u001b[0mupdate_wrapper\u001b[0m\u001b[0;34m(\u001b[0m\u001b[0mout\u001b[0m\u001b[0;34m,\u001b[0m \u001b[0mself\u001b[0m\u001b[0;34m.\u001b[0m\u001b[0mfn\u001b[0m\u001b[0;34m)\u001b[0m\u001b[0;34m\u001b[0m\u001b[0m\n",
      "\u001b[0;32m~/anaconda3/lib/python3.6/site-packages/sklearn/pipeline.py\u001b[0m in \u001b[0;36mpredict\u001b[0;34m(self, X)\u001b[0m\n\u001b[1;32m    304\u001b[0m         \u001b[0;32mfor\u001b[0m \u001b[0mname\u001b[0m\u001b[0;34m,\u001b[0m \u001b[0mtransform\u001b[0m \u001b[0;32min\u001b[0m \u001b[0mself\u001b[0m\u001b[0;34m.\u001b[0m\u001b[0msteps\u001b[0m\u001b[0;34m[\u001b[0m\u001b[0;34m:\u001b[0m\u001b[0;34m-\u001b[0m\u001b[0;36m1\u001b[0m\u001b[0;34m]\u001b[0m\u001b[0;34m:\u001b[0m\u001b[0;34m\u001b[0m\u001b[0m\n\u001b[1;32m    305\u001b[0m             \u001b[0;32mif\u001b[0m \u001b[0mtransform\u001b[0m \u001b[0;32mis\u001b[0m \u001b[0;32mnot\u001b[0m \u001b[0;32mNone\u001b[0m\u001b[0;34m:\u001b[0m\u001b[0;34m\u001b[0m\u001b[0m\n\u001b[0;32m--> 306\u001b[0;31m                 \u001b[0mXt\u001b[0m \u001b[0;34m=\u001b[0m \u001b[0mtransform\u001b[0m\u001b[0;34m.\u001b[0m\u001b[0mtransform\u001b[0m\u001b[0;34m(\u001b[0m\u001b[0mXt\u001b[0m\u001b[0;34m)\u001b[0m\u001b[0;34m\u001b[0m\u001b[0m\n\u001b[0m\u001b[1;32m    307\u001b[0m         \u001b[0;32mreturn\u001b[0m \u001b[0mself\u001b[0m\u001b[0;34m.\u001b[0m\u001b[0msteps\u001b[0m\u001b[0;34m[\u001b[0m\u001b[0;34m-\u001b[0m\u001b[0;36m1\u001b[0m\u001b[0;34m]\u001b[0m\u001b[0;34m[\u001b[0m\u001b[0;34m-\u001b[0m\u001b[0;36m1\u001b[0m\u001b[0;34m]\u001b[0m\u001b[0;34m.\u001b[0m\u001b[0mpredict\u001b[0m\u001b[0;34m(\u001b[0m\u001b[0mXt\u001b[0m\u001b[0;34m)\u001b[0m\u001b[0;34m\u001b[0m\u001b[0m\n\u001b[1;32m    308\u001b[0m \u001b[0;34m\u001b[0m\u001b[0m\n",
      "\u001b[0;32m<ipython-input-554-5318ccf44149>\u001b[0m in \u001b[0;36mtransform\u001b[0;34m(self, X)\u001b[0m\n\u001b[1;32m     15\u001b[0m \u001b[0;34m\u001b[0m\u001b[0m\n\u001b[1;32m     16\u001b[0m     \u001b[0;32mdef\u001b[0m \u001b[0mtransform\u001b[0m\u001b[0;34m(\u001b[0m\u001b[0mself\u001b[0m\u001b[0;34m,\u001b[0m \u001b[0mX\u001b[0m\u001b[0;34m)\u001b[0m\u001b[0;34m:\u001b[0m\u001b[0;34m\u001b[0m\u001b[0m\n\u001b[0;32m---> 17\u001b[0;31m         \u001b[0;32mreturn\u001b[0m \u001b[0mnp\u001b[0m\u001b[0;34m.\u001b[0m\u001b[0mcolumn_stack\u001b[0m\u001b[0;34m(\u001b[0m\u001b[0;34m(\u001b[0m\u001b[0mself\u001b[0m\u001b[0;34m.\u001b[0m\u001b[0mfitted\u001b[0m\u001b[0;34m,\u001b[0m \u001b[0mX\u001b[0m\u001b[0;34m)\u001b[0m\u001b[0;34m)\u001b[0m\u001b[0;34m\u001b[0m\u001b[0m\n\u001b[0m\u001b[1;32m     18\u001b[0m \u001b[0;34m\u001b[0m\u001b[0m\n\u001b[1;32m     19\u001b[0m     \u001b[0;32mdef\u001b[0m \u001b[0mfit_transform\u001b[0m\u001b[0;34m(\u001b[0m\u001b[0mself\u001b[0m\u001b[0;34m,\u001b[0m \u001b[0mX\u001b[0m\u001b[0;34m,\u001b[0m \u001b[0my\u001b[0m\u001b[0;34m)\u001b[0m\u001b[0;34m:\u001b[0m\u001b[0;34m\u001b[0m\u001b[0m\n",
      "\u001b[0;32m~/anaconda3/lib/python3.6/site-packages/numpy/lib/shape_base.py\u001b[0m in \u001b[0;36mcolumn_stack\u001b[0;34m(tup)\u001b[0m\n\u001b[1;32m    367\u001b[0m             \u001b[0marr\u001b[0m \u001b[0;34m=\u001b[0m \u001b[0marray\u001b[0m\u001b[0;34m(\u001b[0m\u001b[0marr\u001b[0m\u001b[0;34m,\u001b[0m \u001b[0mcopy\u001b[0m\u001b[0;34m=\u001b[0m\u001b[0;32mFalse\u001b[0m\u001b[0;34m,\u001b[0m \u001b[0msubok\u001b[0m\u001b[0;34m=\u001b[0m\u001b[0;32mTrue\u001b[0m\u001b[0;34m,\u001b[0m \u001b[0mndmin\u001b[0m\u001b[0;34m=\u001b[0m\u001b[0;36m2\u001b[0m\u001b[0;34m)\u001b[0m\u001b[0;34m.\u001b[0m\u001b[0mT\u001b[0m\u001b[0;34m\u001b[0m\u001b[0m\n\u001b[1;32m    368\u001b[0m         \u001b[0marrays\u001b[0m\u001b[0;34m.\u001b[0m\u001b[0mappend\u001b[0m\u001b[0;34m(\u001b[0m\u001b[0marr\u001b[0m\u001b[0;34m)\u001b[0m\u001b[0;34m\u001b[0m\u001b[0m\n\u001b[0;32m--> 369\u001b[0;31m     \u001b[0;32mreturn\u001b[0m \u001b[0m_nx\u001b[0m\u001b[0;34m.\u001b[0m\u001b[0mconcatenate\u001b[0m\u001b[0;34m(\u001b[0m\u001b[0marrays\u001b[0m\u001b[0;34m,\u001b[0m \u001b[0;36m1\u001b[0m\u001b[0;34m)\u001b[0m\u001b[0;34m\u001b[0m\u001b[0m\n\u001b[0m\u001b[1;32m    370\u001b[0m \u001b[0;34m\u001b[0m\u001b[0m\n\u001b[1;32m    371\u001b[0m \u001b[0;32mdef\u001b[0m \u001b[0mdstack\u001b[0m\u001b[0;34m(\u001b[0m\u001b[0mtup\u001b[0m\u001b[0;34m)\u001b[0m\u001b[0;34m:\u001b[0m\u001b[0;34m\u001b[0m\u001b[0m\n",
      "\u001b[0;31mValueError\u001b[0m: all the input array dimensions except for the concatenation axis must match exactly"
     ]
    }
   ],
   "source": [
    "ms.cross_val_predict(mypipep, X=X_train_log, y=Y_train_log)"
   ]
  },
  {
   "cell_type": "markdown",
   "metadata": {},
   "source": [
    "# PRESENTATION (Normal Stuff)"
   ]
  },
  {
   "cell_type": "code",
   "execution_count": 34,
   "metadata": {},
   "outputs": [],
   "source": [
    "import sklearn.model_selection as ms"
   ]
  },
  {
   "cell_type": "code",
   "execution_count": 35,
   "metadata": {},
   "outputs": [],
   "source": [
    "from sklearn.metrics import make_scorer\n",
    "\n",
    "def rmsle(ground_truth, predictions):\n",
    "    '''\n",
    "    this version works if Y has not been\n",
    "    transformed (e.g., log transformed)\n",
    "    '''\n",
    "    from math import log1p, sqrt\n",
    "    \n",
    "    \n",
    "    log1p_vec = np.vectorize(log1p)\n",
    "    return sqrt(np.mean((log1p_vec(predictions) - log1p_vec(ground_truth))**2))\n",
    "\n",
    "\n",
    "rmsle_s = make_scorer(rmsle, greater_is_better=False)"
   ]
  },
  {
   "cell_type": "code",
   "execution_count": 36,
   "metadata": {},
   "outputs": [],
   "source": [
    "def rmsle_bc(ground_truth, predictions, l):\n",
    "    '''\n",
    "    this version reverses the boxcox transformation and gets\n",
    "    RMSLE on the original Y values\n",
    "    '''\n",
    "    from math import log1p, sqrt\n",
    "    from scipy.special import inv_boxcox\n",
    "    \n",
    "    \n",
    "    ground_truth = inv_boxcox(ground_truth, l)\n",
    "    predictions = inv_boxcox(predictions, l)\n",
    "    \n",
    "    \n",
    "    log1p_vec = np.vectorize(log1p)\n",
    "    return sqrt(np.mean((log1p_vec(predictions) - log1p_vec(ground_truth))**2))"
   ]
  },
  {
   "cell_type": "code",
   "execution_count": 37,
   "metadata": {},
   "outputs": [],
   "source": [
    "def rmsle_log1p(ground_truth, predictions):\n",
    "    '''\n",
    "    this version leaves the log1p transformation\n",
    "    '''\n",
    "    from math import sqrt\n",
    "\n",
    "    return sqrt(np.mean((predictions - ground_truth)**2))\n",
    "\n",
    "rmsle_s_log1p = make_scorer(rmsle_log1p, greater_is_better=False)"
   ]
  },
  {
   "cell_type": "code",
   "execution_count": 46,
   "metadata": {},
   "outputs": [],
   "source": [
    "from matplotlib import pyplot as plt\n",
    "import seaborn as sns\n",
    "from matplotlib.ticker import FuncFormatter"
   ]
  },
  {
   "cell_type": "code",
   "execution_count": 57,
   "metadata": {
    "scrolled": true
   },
   "outputs": [],
   "source": [
    "plt.rcParams['figure.figsize'] = (4, 4) # defaults to half-page image\n",
    "                                    #--> use this for a full-page image (9,4)\n",
    "plt.rcParams['axes.spines.top'] = False\n",
    "plt.rcParams['axes.spines.right'] = False\n",
    "plt.rcParams['savefig.dpi'] = 200\n",
    "plt.rcParams['savefig.bbox'] = 'tight'"
   ]
  },
  {
   "cell_type": "markdown",
   "metadata": {},
   "source": [
    "## Simple linear regresion 1"
   ]
  },
  {
   "cell_type": "code",
   "execution_count": 59,
   "metadata": {},
   "outputs": [],
   "source": [
    "# Train regression\n",
    "\n",
    "from sklearn.linear_model import LinearRegression\n",
    "lm = LinearRegression()\n",
    "_ = lm.fit(X_train[['GrLivArea']], Y_train)"
   ]
  },
  {
   "cell_type": "code",
   "execution_count": 60,
   "metadata": {},
   "outputs": [
    {
     "data": {
      "image/png": "[encoded data removed]",
      "text/plain": [
       "<Figure size 288x288 with 1 Axes>"
      ]
     },
     "metadata": {},
     "output_type": "display_data"
    }
   ],
   "source": [
    "fig, ax = plt.subplots(1, 1)\n",
    "\n",
    "# Scatter plot of X vs. Y\n",
    "_ = ax.scatter(X_train.GrLivArea, Y_train, alpha=0.6)\n",
    "\n",
    "# Add regression line to plot\n",
    "_ = ax.plot([0, 5000], [lm.intercept_, lm.intercept_ + 5000*lm.coef_[0]], color='red')\n",
    "\n",
    "# Formatting etc.\n",
    "_ = ax.set_title('House Size vs. Sale Price')\n",
    "_ = ax.get_xaxis().set_major_formatter(FuncFormatter(lambda x, p: str(int(x/1000)) + 'k'))\n",
    "_ = ax.get_yaxis().set_major_formatter(FuncFormatter(lambda x, p: '$' + str(int(x/1000)) + 'k'))\n",
    "_ = ax.set_xlabel('Above Grade Sq. Ft.')\n",
    "_ = ax.set_ylabel('Sale Price')\n",
    "\n",
    "# Save out\n",
    "_ = plt.savefig('figures/1_scatter.png', format = 'png')"
   ]
  },
  {
   "cell_type": "code",
   "execution_count": 42,
   "metadata": {},
   "outputs": [
    {
     "data": {
      "text/plain": [
       "(7168.969884852384, array([115.03998299]), 0.5401782028813179)"
      ]
     },
     "execution_count": 42,
     "metadata": {},
     "output_type": "execute_result"
    }
   ],
   "source": [
    "# Print out intercept, coefficient, and R^2 for slide\n",
    "\n",
    "lm.intercept_, lm.coef_, lm.score(X_train[['GrLivArea']], Y_train)"
   ]
  },
  {
   "cell_type": "code",
   "execution_count": 61,
   "metadata": {},
   "outputs": [
    {
     "data": {
      "text/plain": [
       "-0.27290335270413796"
      ]
     },
     "execution_count": 61,
     "metadata": {},
     "output_type": "execute_result"
    }
   ],
   "source": [
    "# Cross-val rmsle score for one-variable SLR\n",
    "\n",
    "np.mean(ms.cross_val_score(lm, X_train[['GrLivArea']], Y_train, cv=5, scoring=rmsle_s))"
   ]
  },
  {
   "cell_type": "code",
   "execution_count": 44,
   "metadata": {},
   "outputs": [
    {
     "data": {
      "image/png": "[encoded data removed]",
      "text/plain": [
       "<Figure size 288x288 with 1 Axes>"
      ]
     },
     "metadata": {},
     "output_type": "display_data"
    }
   ],
   "source": [
    "fig, ax = plt.subplots(1, 1)\n",
    "\n",
    "# Get predictions and errors\n",
    "predicted = lm.predict(X_train[['GrLivArea']])\n",
    "error = predicted - Y_train\n",
    "\n",
    "# Plot\n",
    "_ = ax.scatter(predicted, error, alpha=0.6)\n",
    "\n",
    "# Formatting, etc.\n",
    "_ = ax.axhline(0, color='red')\n",
    "_ = ax.set_title('Residual Plot')\n",
    "_ = ax.get_xaxis().set_major_formatter(FuncFormatter(lambda x, p: '$' + str(int(x/1000)) + 'k'))\n",
    "_ = ax.get_yaxis().set_major_formatter(FuncFormatter(lambda x, p: '$' + str(int(x/1000)) + 'k'))\n",
    "_ = ax.set_xlabel('Predicted Price')\n",
    "_ = ax.set_ylabel('Error')\n",
    "\n",
    "# Save out\n",
    "_ = plt.savefig('figures/2_slr_resid.png', format = 'png')"
   ]
  },
  {
   "cell_type": "markdown",
   "metadata": {},
   "source": [
    "## Simple linear regression 2 -- variable transformation"
   ]
  },
  {
   "cell_type": "code",
   "execution_count": 47,
   "metadata": {},
   "outputs": [
    {
     "data": {
      "image/png": "[encoded data removed]",
      "text/plain": [
       "<Figure size 648x288 with 2 Axes>"
      ]
     },
     "metadata": {},
     "output_type": "display_data"
    }
   ],
   "source": [
    "fig, ax = plt.subplots(1, 2, figsize=(9,4))\n",
    "\n",
    "# Histogram of sale price\n",
    "_ = sns.distplot(Y_train, ax=ax[0])\n",
    "_ = ax[0].axes.get_yaxis().set_visible(False)\n",
    "_ = ax[0].spines['left'].set_visible(False)\n",
    "_ = ax[0].set_xlabel('Sale Price')\n",
    "_ = ax[0].set_title('Distribution of Sale Price')\n",
    "_ = ax[0].get_xaxis().set_major_formatter(FuncFormatter(lambda x, p: '$' + str(int(x/1000)) + 'k'))\n",
    "\n",
    "# Histogram of house size\n",
    "_ = sns.distplot(X_train['GrLivArea'], ax=ax[1])\n",
    "_ = ax[1].set_xlabel('Above Grade Sq. Ft.')\n",
    "_ = ax[1].axes.get_yaxis().set_visible(False)\n",
    "_ = ax[1].spines['left'].set_visible(False)\n",
    "_ = ax[1].set_title('Distribution of House Size')\n",
    "_ = ax[1].get_xaxis().set_major_formatter(FuncFormatter(lambda x, p: str(int(x/1000)) + 'k'))\n",
    "\n",
    "# Save out\n",
    "_ = plt.savefig('figures/3_slr_xydists.png', format = 'png')"
   ]
  },
  {
   "cell_type": "code",
   "execution_count": 49,
   "metadata": {},
   "outputs": [
    {
     "name": "stderr",
     "output_type": "stream",
     "text": [
      "/Users/johnmcglynn/anaconda3/lib/python3.6/site-packages/scipy/stats/morestats.py:900: RuntimeWarning: divide by zero encountered in log\n",
      "  llf -= N / 2.0 * np.log(np.sum((y - y_mean)**2. / N, axis=0))\n",
      "/Users/johnmcglynn/anaconda3/lib/python3.6/site-packages/scipy/optimize/optimize.py:1926: RuntimeWarning: invalid value encountered in double_scalars\n",
      "  tmp1 = (x - w) * (fx - fv)\n",
      "/Users/johnmcglynn/anaconda3/lib/python3.6/site-packages/scipy/optimize/optimize.py:1927: RuntimeWarning: invalid value encountered in double_scalars\n",
      "  tmp2 = (x - v) * (fx - fw)\n"
     ]
    }
   ],
   "source": [
    "from scipy.stats import boxcox\n",
    "\n",
    "# Apply box-cox to X...\n",
    "\n",
    "X_train_bc = X_train.apply(lambda x: boxcox(x - min(x) + 1)[0], axis=0, result_type = 'expand')\n",
    "X_train_bc.columns = X_train.columns\n",
    "\n",
    "\n",
    "# And to Y...\n",
    "\n",
    "bc = boxcox(Y_train)\n",
    "Y_train_bc = bc[0]\n",
    "\n",
    "# Save the lambda value\n",
    "\n",
    "la = bc[1]"
   ]
  },
  {
   "cell_type": "code",
   "execution_count": 50,
   "metadata": {},
   "outputs": [
    {
     "data": {
      "text/plain": [
       "LinearRegression(copy_X=True, fit_intercept=True, n_jobs=1, normalize=False)"
      ]
     },
     "execution_count": 50,
     "metadata": {},
     "output_type": "execute_result"
    }
   ],
   "source": [
    "# Train model on box-coxed x and y\n",
    "\n",
    "lm.fit(X_train_bc[['GrLivArea']], Y_train_bc)"
   ]
  },
  {
   "cell_type": "code",
   "execution_count": 51,
   "metadata": {
    "scrolled": false
   },
   "outputs": [
    {
     "data": {
      "image/png": "[encoded data removed]",
      "text/plain": [
       "<Figure size 288x288 with 3 Axes>"
      ]
     },
     "metadata": {},
     "output_type": "display_data"
    }
   ],
   "source": [
    "# Plot box-coxed x and y against each other\n",
    "\n",
    "_ = sns.jointplot(X_train_bc['GrLivArea'], Y_train_bc, alpha=0.7, height=4)\n",
    "\n",
    "\n",
    "# Add regression line\n",
    "\n",
    "__ = _.ax_joint.plot([0, 70], [lm.intercept_, lm.intercept_ + lm.coef_[0]*70], color='red')\n",
    "\n",
    "\n",
    "# Formatting\n",
    "\n",
    "__ = _.ax_joint.set_xlabel('Above Grade Sq. Ft. (Tranformed)')\n",
    "__ = _.ax_joint.set_ylabel('Sale Price (Transformed)')\n",
    "__ = _.ax_joint.get_xaxis().set_ticks([])\n",
    "__ = _.ax_joint.get_yaxis().set_ticks([])\n",
    "__ = _.fig.suptitle('House Size vs. Sale Price', y = 1)\n",
    "\n",
    "\n",
    "# Save figure\n",
    "\n",
    "plt.savefig('figures/4_boxcoxed_lm.png', format = 'png')"
   ]
  },
  {
   "cell_type": "code",
   "execution_count": 52,
   "metadata": {},
   "outputs": [
    {
     "data": {
      "image/png": "[encoded data removed]",
      "text/plain": [
       "<Figure size 288x288 with 1 Axes>"
      ]
     },
     "metadata": {},
     "output_type": "display_data"
    }
   ],
   "source": [
    "fig, ax = plt.subplots(1, 1)\n",
    "\n",
    "# Get predictions and errors\n",
    "predicted = lm.predict(X_train_bc[['GrLivArea']])\n",
    "error = predicted - Y_train_bc\n",
    "\n",
    "# Plot\n",
    "_ = ax.scatter(predicted, error, alpha=0.6)\n",
    "\n",
    "# Formatting, etc.\n",
    "_ = ax.axhline(0, color='red')\n",
    "_ = ax.set_title('Residual Plot')\n",
    "_ = ax.get_xaxis().set_major_formatter(FuncFormatter(lambda x, p: '$' + str(int(x/1000)) + 'k'))\n",
    "_ = ax.get_yaxis().set_major_formatter(FuncFormatter(lambda x, p: '$' + str(int(x/1000)) + 'k'))\n",
    "_ = ax.set_xlabel('Predicted Price (Transformed)')\n",
    "_ = ax.set_ylabel('Error')\n",
    "_ = ax.set_xticks([])\n",
    "_ = ax.set_yticks([])\n",
    "\n",
    "\n",
    "# Save out\n",
    "_ = plt.savefig('figures/5_bc_resid.png', format = 'png')"
   ]
  },
  {
   "cell_type": "code",
   "execution_count": 53,
   "metadata": {},
   "outputs": [],
   "source": [
    "# Make the scorer based on the fitted lambda value\n",
    "\n",
    "rmsle_s_bc = make_scorer(rmsle_bc, greater_is_better=False, l = la)"
   ]
  },
  {
   "cell_type": "code",
   "execution_count": 54,
   "metadata": {
    "scrolled": true
   },
   "outputs": [
    {
     "data": {
      "text/plain": [
       "-0.2699533162626448"
      ]
     },
     "execution_count": 54,
     "metadata": {},
     "output_type": "execute_result"
    }
   ],
   "source": [
    "# Generate cross-val scores for box-cox\n",
    "\n",
    "np.mean(ms.cross_val_score(lm, X = X_train_bc[['GrLivArea']],\n",
    "                   y = Y_train_bc,\n",
    "                   scoring = rmsle_s_bc,\n",
    "                           cv = 5))"
   ]
  },
  {
   "cell_type": "code",
   "execution_count": 67,
   "metadata": {},
   "outputs": [
    {
     "data": {
      "text/plain": [
       "LinearRegression(copy_X=True, fit_intercept=True, n_jobs=1, normalize=False)"
      ]
     },
     "execution_count": 67,
     "metadata": {},
     "output_type": "execute_result"
    },
    {
     "data": {
      "text/plain": [
       "0.5434473082612119"
      ]
     },
     "execution_count": 67,
     "metadata": {},
     "output_type": "execute_result"
    }
   ],
   "source": [
    "# Get R2\n",
    "\n",
    "lm.fit(X = X_train_bc[['GrLivArea']],\n",
    "                   y = Y_train_bc)\n",
    "lm.score(X = X_train_bc[['GrLivArea']],\n",
    "                   y = Y_train_bc)"
   ]
  },
  {
   "cell_type": "markdown",
   "metadata": {},
   "source": [
    "## Multiple Variables"
   ]
  },
  {
   "cell_type": "code",
   "execution_count": 68,
   "metadata": {},
   "outputs": [
    {
     "ename": "NameError",
     "evalue": "name 'train_df' is not defined",
     "output_type": "error",
     "traceback": [
      "\u001b[0;31m---------------------------------------------------------------------------\u001b[0m",
      "\u001b[0;31mNameError\u001b[0m                                 Traceback (most recent call last)",
      "\u001b[0;32m<ipython-input-68-c6d5d459af5c>\u001b[0m in \u001b[0;36m<module>\u001b[0;34m()\u001b[0m\n\u001b[0;32m----> 1\u001b[0;31m \u001b[0mcorrmat\u001b[0m \u001b[0;34m=\u001b[0m \u001b[0mtrain_df\u001b[0m\u001b[0;34m.\u001b[0m\u001b[0mcorr\u001b[0m\u001b[0;34m(\u001b[0m\u001b[0;34m)\u001b[0m\u001b[0;34m\u001b[0m\u001b[0m\n\u001b[0m\u001b[1;32m      2\u001b[0m \u001b[0mf\u001b[0m\u001b[0;34m,\u001b[0m \u001b[0max\u001b[0m \u001b[0;34m=\u001b[0m \u001b[0mplt\u001b[0m\u001b[0;34m.\u001b[0m\u001b[0msubplots\u001b[0m\u001b[0;34m(\u001b[0m\u001b[0mfigsize\u001b[0m\u001b[0;34m=\u001b[0m\u001b[0;34m(\u001b[0m\u001b[0;36m12\u001b[0m\u001b[0;34m,\u001b[0m \u001b[0;36m9\u001b[0m\u001b[0;34m)\u001b[0m\u001b[0;34m)\u001b[0m\u001b[0;34m\u001b[0m\u001b[0m\n\u001b[1;32m      3\u001b[0m \u001b[0msns\u001b[0m\u001b[0;34m.\u001b[0m\u001b[0mheatmap\u001b[0m\u001b[0;34m(\u001b[0m\u001b[0mcorrmat\u001b[0m\u001b[0;34m,\u001b[0m \u001b[0mvmax\u001b[0m\u001b[0;34m=\u001b[0m\u001b[0;36m.8\u001b[0m\u001b[0;34m,\u001b[0m \u001b[0msquare\u001b[0m\u001b[0;34m=\u001b[0m\u001b[0;32mTrue\u001b[0m\u001b[0;34m)\u001b[0m\u001b[0;34m\u001b[0m\u001b[0m\n",
      "\u001b[0;31mNameError\u001b[0m: name 'train_df' is not defined"
     ]
    }
   ],
   "source": [
    "corrmat = train_df.corr()\n",
    "f, ax = plt.subplots(figsize=(12, 9))\n",
    "sns.heatmap(corrmat, vmax=.8, square=True)"
   ]
  }
 ],
 "metadata": {
  "kernelspec": {
   "display_name": "Python [default]",
   "language": "python",
   "name": "python3"
  },
  "language_info": {
   "codemirror_mode": {
    "name": "ipython",
    "version": 3
   },
   "file_extension": ".py",
   "mimetype": "text/x-python",
   "name": "python",
   "nbconvert_exporter": "python",
   "pygments_lexer": "ipython3",
   "version": "3.6.6"
  }
 },
 "nbformat": 4,
 "nbformat_minor": 2
}
